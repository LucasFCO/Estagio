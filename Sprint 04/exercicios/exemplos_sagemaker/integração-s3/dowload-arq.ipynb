{
 "cells": [
  {
   "cell_type": "code",
   "execution_count": 1,
   "id": "5df0e8e7-9a44-4355-81ff-55aef00c44cd",
   "metadata": {},
   "outputs": [],
   "source": [
    "import boto3 # para fazer integração python aws"
   ]
  },
  {
   "cell_type": "code",
   "execution_count": 2,
   "id": "1f6e2dd7-21ef-492d-b247-ebc0d076c2ba",
   "metadata": {},
   "outputs": [],
   "source": [
    "# passa o nome do bucket criado\n",
    "bucket = \"s3-curso-aws-sagemaker\"\n",
    "# variavel de acesso ao bucket\n",
    "s3 = boto3.resource(\"s3\") # resource busca o recurso da aws desejado, no caso S3\n"
   ]
  },
  {
   "cell_type": "code",
   "execution_count": 3,
   "id": "82df50a2-1d2e-4420-b501-928f903fc5bc",
   "metadata": {},
   "outputs": [],
   "source": [
    "s3.Bucket(bucket).download_file(\"arquivos/digit.png\", \"img.png\")"
   ]
  },
  {
   "cell_type": "code",
   "execution_count": null,
   "id": "8b9ba1b0-40a4-4feb-9144-4fc0a6df229c",
   "metadata": {},
   "outputs": [],
   "source": []
  }
 ],
 "metadata": {
  "kernelspec": {
   "display_name": "Python 3 (ipykernel)",
   "language": "python",
   "name": "python3"
  },
  "language_info": {
   "codemirror_mode": {
    "name": "ipython",
    "version": 3
   },
   "file_extension": ".py",
   "mimetype": "text/x-python",
   "name": "python",
   "nbconvert_exporter": "python",
   "pygments_lexer": "ipython3",
   "version": "3.11.11"
  }
 },
 "nbformat": 4,
 "nbformat_minor": 5
}
