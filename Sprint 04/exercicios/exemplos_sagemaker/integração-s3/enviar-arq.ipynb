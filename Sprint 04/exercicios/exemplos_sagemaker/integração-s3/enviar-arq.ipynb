{
 "cells": [
  {
   "cell_type": "code",
   "execution_count": 1,
   "id": "abc7e9d9-d194-4a5e-9260-5086d8f36c66",
   "metadata": {},
   "outputs": [
    {
     "name": "stdout",
     "output_type": "stream",
     "text": [
      "sagemaker.config INFO - Not applying SDK defaults from location: /etc/xdg/sagemaker/config.yaml\n",
      "sagemaker.config INFO - Not applying SDK defaults from location: /home/sagemaker-user/.config/sagemaker/config.yaml\n"
     ]
    }
   ],
   "source": [
    "import boto3 # faz a integração entre o python e a AWS\n",
    "from sagemaker.s3 import S3Uploader"
   ]
  },
  {
   "cell_type": "code",
   "execution_count": 2,
   "id": "3fa76b47-550b-42b6-bb6c-a1c91f8da4f5",
   "metadata": {},
   "outputs": [],
   "source": [
    "session = boto3.Session()"
   ]
  },
  {
   "cell_type": "code",
   "execution_count": 3,
   "id": "eebc824d-2eae-4515-aaee-551d847a5903",
   "metadata": {},
   "outputs": [
    {
     "data": {
      "text/plain": [
       "'us-east-1'"
      ]
     },
     "execution_count": 3,
     "metadata": {},
     "output_type": "execute_result"
    }
   ],
   "source": [
    "session.region_name"
   ]
  },
  {
   "cell_type": "code",
   "execution_count": 4,
   "id": "8964a30d-1e2b-42a0-b095-e5aba2722efc",
   "metadata": {
    "scrolled": true
   },
   "outputs": [
    {
     "data": {
      "text/plain": [
       "{'ResponseMetadata': {'RequestId': 'Q0KDHTWTEGV0N25N',\n",
       "  'HostId': '49HxOXmRv0lV2wYzoP2zgd7gcPcK/SHAyUKtn1WQm3KIbKgsKFoe720Mv4x/JldXeO9U1G1iG+sDjMXcnVOxJjWSRt3FHVq3',\n",
       "  'HTTPStatusCode': 200,\n",
       "  'HTTPHeaders': {'x-amz-id-2': '49HxOXmRv0lV2wYzoP2zgd7gcPcK/SHAyUKtn1WQm3KIbKgsKFoe720Mv4x/JldXeO9U1G1iG+sDjMXcnVOxJjWSRt3FHVq3',\n",
       "   'x-amz-request-id': 'Q0KDHTWTEGV0N25N',\n",
       "   'date': 'Tue, 07 Jan 2025 14:44:06 GMT',\n",
       "   'location': '/s3-curso-aws-sagemaker',\n",
       "   'content-length': '0',\n",
       "   'server': 'AmazonS3'},\n",
       "  'RetryAttempts': 0},\n",
       " 'Location': '/s3-curso-aws-sagemaker'}"
      ]
     },
     "execution_count": 4,
     "metadata": {},
     "output_type": "execute_result"
    }
   ],
   "source": [
    "bucket = \"s3-curso-aws-sagemaker\"\n",
    "session.client('s3').create_bucket(Bucket=bucket)"
   ]
  },
  {
   "cell_type": "code",
   "execution_count": 5,
   "id": "efd2d53f-b795-4122-97af-2e7ab07a85b1",
   "metadata": {},
   "outputs": [],
   "source": [
    "subpasta = \"arquivos\""
   ]
  },
  {
   "cell_type": "code",
   "execution_count": 6,
   "id": "a6ce1b59-7784-496e-b796-d832d5028083",
   "metadata": {},
   "outputs": [
    {
     "name": "stdout",
     "output_type": "stream",
     "text": [
      "s3://s3-curso-aws-sagemaker/arquivos\n"
     ]
    }
   ],
   "source": [
    "caminho = \"s3://{}/{}\".format(bucket, subpasta)\n",
    "print(caminho)"
   ]
  },
  {
   "cell_type": "code",
   "execution_count": 7,
   "id": "bc6be3c5-2afd-4f9d-a62e-d9ded31d93cf",
   "metadata": {},
   "outputs": [
    {
     "name": "stdout",
     "output_type": "stream",
     "text": [
      "s3://s3-curso-aws-sagemaker/arquivos/digit.png\n"
     ]
    }
   ],
   "source": [
    "s3_image = S3Uploader.upload(\"digit.png\", caminho)\n",
    "print(s3_image)"
   ]
  },
  {
   "cell_type": "code",
   "execution_count": 9,
   "id": "34dae0c0-a496-4b07-b96b-8d5edcdd918a",
   "metadata": {},
   "outputs": [
    {
     "name": "stdout",
     "output_type": "stream",
     "text": [
      "s3://s3-curso-aws-sagemaker/arquivos/house_prices.csv\n"
     ]
    }
   ],
   "source": [
    "s3_base = S3Uploader.upload(\"house_prices.csv\", caminho)\n",
    "print(s3_base)"
   ]
  },
  {
   "cell_type": "code",
   "execution_count": null,
   "id": "77908c93-a72f-4d85-8827-d4c572e70195",
   "metadata": {},
   "outputs": [],
   "source": []
  }
 ],
 "metadata": {
  "kernelspec": {
   "display_name": "Python 3 (ipykernel)",
   "language": "python",
   "name": "python3"
  },
  "language_info": {
   "codemirror_mode": {
    "name": "ipython",
    "version": 3
   },
   "file_extension": ".py",
   "mimetype": "text/x-python",
   "name": "python",
   "nbconvert_exporter": "python",
   "pygments_lexer": "ipython3",
   "version": "3.11.11"
  }
 },
 "nbformat": 4,
 "nbformat_minor": 5
}
