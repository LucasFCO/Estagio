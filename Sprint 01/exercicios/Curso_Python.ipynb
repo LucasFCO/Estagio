{
 "cells": [
  {
   "cell_type": "markdown",
   "metadata": {},
   "source": [
    "# Programação com Python - do Zero ao Avançado"
   ]
  },
  {
   "cell_type": "markdown",
   "metadata": {},
   "source": [
    "### Seção 2"
   ]
  },
  {
   "cell_type": "code",
   "execution_count": 2,
   "metadata": {},
   "outputs": [
    {
     "name": "stdout",
     "output_type": "stream",
     "text": [
      "Subtração 52 \n",
      "Multiplicação 1925 \n",
      "MOD 2 \n",
      "Potenciação 145300841439648009494965894021269151109946912557 \n",
      "Divisão inteira: 3 \n",
      "Divisão real: 3.08 \n"
     ]
    }
   ],
   "source": [
    "# Exercico 1 - Exibir na tela o resultado das oepraçôes.\n",
    "\n",
    "x = int(input('Informe um numero inteiro:'))\n",
    "y = int(input('Informe um outro numero inteiro:'))\n",
    "print(f'Subtração {x - y} \\nMultiplicação {x * y} \\nMOD {x % y} \\nPotenciação {x ** y} \\nDivisão inteira: {x // y} \\nDivisão real: {x / y} ')"
   ]
  },
  {
   "cell_type": "code",
   "execution_count": null,
   "metadata": {},
   "outputs": [
    {
     "name": "stdout",
     "output_type": "stream",
     "text": [
      "X é maior que Y? False \n",
      "X é igual a Y? False \n",
      "X é diferente de Y? True\n",
      "\n",
      "Aluno aprovado: True\n"
     ]
    }
   ],
   "source": [
    "# Operadores de comparação ou relacionais (<,<=, >, >=, ==, !=)\n",
    "x = 5\n",
    "y = 9\n",
    "print(f'X é maior que Y? {x > y} \\nX é igual a Y? {x == y} \\nX é diferente de Y? {x != y}')\n",
    "\n",
    "\n",
    "# Operadores lógicos (And, or, not)\n",
    "notas, faltas = 8 ,16\n",
    "\n",
    "msg = (notas >= 6) and (faltas <= 18)\n",
    "print(f'\\nAluno aprovado: {msg}')\n"
   ]
  },
  {
   "cell_type": "markdown",
   "metadata": {},
   "source": [
    "### Seção 3 - Estruturas de controle"
   ]
  },
  {
   "cell_type": "code",
   "execution_count": null,
   "metadata": {},
   "outputs": [
    {
     "name": "stdout",
     "output_type": "stream",
     "text": [
      "Aprovado!!!\n"
     ]
    }
   ],
   "source": [
    "# 1) Exercicio\n",
    "\n",
    "n1 = float(input(\"Informe a nota 1. \"))\n",
    "n2 = float(input(\"Informe a nota 2. \"))\n",
    "faltas = int(input(\"Informe numero de faltas. \"))\n",
    "media = (n1 + n2)/2\n",
    "\n",
    "if (faltas < 10): # Se o numero de fatas é igual ou maior 10, reprovado altomaticamente.\n",
    "    if (media >= 6):        # Se media maior igual a 6, Aprovado.\n",
    "        print(\"Aprovado!!!\")\n",
    "    elif (media >= 5):      # Se media maior igual a 5 e menor 6, em recuperação.\n",
    "        print(\"Em recuperação!\")\n",
    "    else:\n",
    "        print(\"Reprovado por nota.\")\n",
    "else:        \n",
    "    print('Reprovado!!!')\n",
    "    "
   ]
  },
  {
   "cell_type": "code",
   "execution_count": 2,
   "metadata": {},
   "outputs": [
    {
     "name": "stdout",
     "output_type": "stream",
     "text": [
      "A mensagem começa aqui e contunua no print de baixo, mas na mesma linha.\n",
      "\n",
      "Este é Joselito, ele tem 30 anos de idade.\n",
      "\n",
      "Este é Joselito, ele tem 30 anos de idade.\n",
      "O valor de Pi é: 3.1416\n"
     ]
    }
   ],
   "source": [
    "print(\"A mensagem começa aqui\", end='')\n",
    "print(\" e contunua no print de baixo, mas na mesma linha.\")\n",
    "\n",
    "nome, idade = 'Joselito', 30\n",
    "pi = 3.141592653\n",
    "print('\\nEste é {}, ele tem {} anos de idade.'.format(nome, idade))\n",
    "print(f'\\nEste é {nome}, ele tem {idade} anos de idade.')\n",
    "\n",
    "print(f'O valor de Pi é: {pi:.4f}')"
   ]
  },
  {
   "cell_type": "code",
   "execution_count": null,
   "metadata": {},
   "outputs": [
    {
     "name": "stdout",
     "output_type": "stream",
     "text": [
      "1\n",
      "2\n",
      "3\n",
      "4\n",
      "5\n",
      "6\n",
      "7\n",
      "8\n",
      "9\n",
      "10\n",
      "Laço encerrado.\n"
     ]
    }
   ],
   "source": [
    "# Laço de repetição\n",
    "# While\n",
    "\n",
    "n = 1\n",
    "while(n <=3):\n",
    "    print(n)\n",
    "    n +=1\n",
    "print('Laço encerrado.')\n",
    "\n",
    "##########################\n",
    "nome = None\n",
    "while True:\n",
    "    print('Informe seu nome.')\n",
    "    nome = input()\n",
    "    if nome == 'X' or nome == 'x':\n",
    "        break\n",
    "\n",
    "    print(f'Bem vindo, {nome}\\n')\n",
    "print('Ate logo!')"
   ]
  },
  {
   "cell_type": "code",
   "execution_count": null,
   "metadata": {},
   "outputs": [
    {
     "name": "stdout",
     "output_type": "stream",
     "text": [
      "Rubi\n",
      "Esmeralda\n",
      "Safira\n",
      "Diamante\n",
      "Rodada - 0\n",
      "Nº sorteado: 98\n",
      "Nº sorteado: 14\n",
      "Nº sorteado: 87\n",
      "Rodada - 1\n",
      "Nº sorteado: 34\n",
      "Nº sorteado: 84\n",
      "Nº sorteado: 1\n",
      "Rodada - 2\n",
      "Nº sorteado: 97\n",
      "Nº sorteado: 75\n",
      "Nº sorteado: 94\n",
      "Rodada - 3\n",
      "Nº sorteado: 63\n",
      "Nº sorteado: 43\n",
      "Nº sorteado: 39\n",
      "Rodada - 4\n",
      "Nº sorteado: 9\n",
      "Nº sorteado: 86\n",
      "Nº sorteado: 35\n"
     ]
    }
   ],
   "source": [
    "# Laço For\n",
    "# lista1 = [1,2,3,4,5]\n",
    "# print('\\nFor percorrendo uma lista.')\n",
    "# for i in lista1:\n",
    "#     print(i)\n",
    "\n",
    "# print('\\nFor icrementação simples por uma faixa.')\n",
    "# for i in range(0,5): # ou for i in range(5): ou for i in range(len(lista1)):\n",
    "#     print(i)\n",
    "\n",
    "# print('\\nFor icrementação por um valor em uma faixa.')\n",
    "# for i in range(0,22,2): # ou for i in range(5): ou for i in range(len(lista1)):\n",
    "#     print(i)\n",
    "\n",
    "# pedras = ('Rubi','Esmeralda', 'Quartzo', 'Safira', 'Diamante')\n",
    "# for pedra in pedras:\n",
    "#     if pedra == 'Quartzo':\n",
    "#         continue\n",
    "#     print(pedra)    \n",
    "\n",
    "import random\n",
    "# num = None\n",
    "for i in range(0,5):\n",
    "    print(f'Rodada - {i}')\n",
    "    for i in range(3):\n",
    "        num = random.randint(0,100)\n",
    "        print(f'Nº sorteado: {num}')"
   ]
  },
  {
   "cell_type": "markdown",
   "metadata": {},
   "source": [
    "### Seção 4 - "
   ]
  },
  {
   "cell_type": "code",
   "execution_count": null,
   "metadata": {},
   "outputs": [
    {
     "name": "stdout",
     "output_type": "stream",
     "text": [
      "Numero escolhido: 11\n",
      "Numero escolhido: [84, 11, 31]\n",
      "lista Embaralhada: [4, 9, 54, 6, 84, 7, 26, 2, 32, 11, 31]\n"
     ]
    }
   ],
   "source": [
    "# Import modulos\n",
    "## Math\n",
    "\n",
    "# import math # importa toda a biblioteca math.\n",
    "# from math import sqrt, sin # importa somente as funções requeridas.\n",
    "# from math import * # import universal. Não é recomendado pois pode conflitar com funções criadas pelo user.\n",
    "# print(sqrt(81))\n",
    "\n",
    "## Random\n",
    "\n",
    "# import random\n",
    "# for i in range(5):\n",
    "#     valor = random.randint(0,100)\n",
    "#     print(f'O numero gerado é: {valor}')\n",
    "\n",
    "# valor = random.random() # não pode passar o intervalo e o numero é gerado entre 0 e 1.\n",
    "# print(f'O numero gerado é: {valor}')\n",
    "# print(f'O numero gerado com mudança de escala e arredondamento: {round(valor * 10, 2)}')\n",
    "\n",
    "L = [2,4,6,9,7,84,32,11,54,26,31]\n",
    "x = random.choice(L)\n",
    "print(f'Numero escolhido: {x}')\n",
    "\n",
    "x = random.sample(L,3)\n",
    "print(f'Numero escolhido: {x}')\n",
    "\n",
    "x = random.shuffle(L)\n",
    "print(f'lista Embaralhada: {L}')\n"
   ]
  },
  {
   "cell_type": "code",
   "execution_count": 46,
   "metadata": {},
   "outputs": [
    {
     "name": "stdout",
     "output_type": "stream",
     "text": [
      "[8, 6, 7, 4, 9, 1, 2, 0, 12, 11, 3]\n",
      "[12, 11, 9, 8, 7, 6, 4, 3, 2, 1, 0]\n",
      "False\n",
      "None\n",
      "[0, 1, 2, 3, 11, 12]\n"
     ]
    }
   ],
   "source": [
    "## Listas\n",
    "n1 = [8,6,7,4,9]\n",
    "n2 = [1,2,0,12,11,3]\n",
    "valores = n1 + n2 # concatena as listas.\n",
    "print(valores)\n",
    "print(sorted(valores, reverse=True))\n",
    "print(15 in valores)\n",
    "# valores\n",
    "# a = []\n",
    "# a = n1.sort()\n",
    "print(n1.sort())\n",
    "print(sorted(n2))"
   ]
  },
  {
   "cell_type": "code",
   "execution_count": 54,
   "metadata": {},
   "outputs": [
    {
     "name": "stdout",
     "output_type": "stream",
     "text": [
      "2.8284271247461903\n",
      "2.83\n",
      "Arredondando a raiz quadrada pra cima:  3\n",
      "Arredondando a raiz quadrada pra baixo:  2\n",
      "2.0\n",
      "3.141592653589793\n",
      "40320\n",
      "0.0\n"
     ]
    }
   ],
   "source": [
    "# Funções Matematicas (MATH)\n",
    "import math\n",
    "\n",
    "x= 8\n",
    "y= 100\n",
    "\n",
    "raiz_q = math.sqrt(x)\n",
    "print(raiz_q)\n",
    "print(round(raiz_q, 2))\n",
    "print('Arredondando a raiz quadrada pra cima: ',math.ceil(raiz_q))\n",
    "print('Arredondando a raiz quadrada pra baixo: ',math.floor(raiz_q))\n",
    "print(math.log10(y))\n",
    "print(math.pi)\n",
    "print(math.factorial(x))\n",
    "print(x / math.inf)"
   ]
  },
  {
   "cell_type": "code",
   "execution_count": 74,
   "metadata": {},
   "outputs": [
    {
     "name": "stdout",
     "output_type": "stream",
     "text": [
      "2024-11-22 14:21:00.700620\n"
     ]
    }
   ],
   "source": [
    "# Modulo Date-Time\n",
    "import datetime\n",
    "agora = datetime.datetime.now()\n",
    "print(agora)\n",
    "# vencimento = agora + timedelta(days = 42)\n",
    "# print(vencimento)\n",
    "# print(f'O boleto vence em {vencimento.strftime(\"%d/%m/%Y\")}')"
   ]
  },
  {
   "cell_type": "code",
   "execution_count": 89,
   "metadata": {},
   "outputs": [
    {
     "name": "stdout",
     "output_type": "stream",
     "text": [
      "2022-12-21\n",
      "2024-11-22\n",
      "2024-11-22 14:31:25.175631\n",
      "2024-11-22 14:31:25.175670\n",
      "Mes:\t 11\n",
      "Data:\t 22/11/2024\n",
      "Horas:\t 14:31:25\n",
      "faltam 20 dias para o aniversario.\n"
     ]
    }
   ],
   "source": [
    "import datetime\n",
    "data = datetime.date(2022,12,21)\n",
    "print(data)\n",
    "print(datetime.date.today())\n",
    "print(datetime.datetime.today())\n",
    "print(datetime.datetime.now())\n",
    "data_completa = datetime.datetime.now()\n",
    "print('Mes:\\t',data_completa.month)\n",
    "# print(datetime.datetime.now().month)\n",
    "hoje = datetime.datetime.now()\n",
    "print('Data:\\t',hoje.strftime(\"%d/%m/%Y\"))\n",
    "print('Horas:\\t',hoje.strftime(\"%H:%M:%S\"))\n",
    "festa = datetime.datetime(2024, 12, 12,18,00)\n",
    "dias = festa - hoje\n",
    "print(f'faltam {dias.days} dias para o aniversario.')\n",
    "\n",
    "# vencimento = agora + timedelta(days = 42)\n",
    "# print(vencimento)\n",
    "# print(f'O boleto vence em {vencimento.strftime(\"%d/%m/%Y\")}')"
   ]
  },
  {
   "cell_type": "code",
   "execution_count": 95,
   "metadata": {},
   "outputs": [
    {
     "name": "stdout",
     "output_type": "stream",
     "text": [
      "5\n",
      "22:02:09\n"
     ]
    }
   ],
   "source": [
    "from datetime import datetime, timedelta\n",
    "import time\n",
    "delta_days = timedelta(days=5)\n",
    "print(delta_days.days)\n",
    "h = time.strftime(\"%H:%M:%S\", time.localtime())\n",
    "print(h)"
   ]
  },
  {
   "cell_type": "code",
   "execution_count": 3,
   "metadata": {},
   "outputs": [
    {
     "name": "stdout",
     "output_type": "stream",
     "text": [
      "{'Z': 3, 'nome': 'Litio', 'grupo': ' Alcalinos', 'densidade': 0.534}\n",
      " Alcalinos\n",
      "{'Z': 3, 'nome': 'Litio', 'grupo': 'Metais Alcalinos', 'densidade': 0.534}\n",
      "Metais Alcalinos\n"
     ]
    }
   ],
   "source": [
    "# Dicionarios\n",
    "\n",
    "elementos = {\n",
    "    'Z' : 3,\n",
    "    'nome' : 'Litio',\n",
    "    'grupo': ' Alcalinos',\n",
    "    'densidade': 0.534\n",
    "}\n",
    "\n",
    "print(elementos)\n",
    "print(elementos['grupo'])\n",
    "elementos['grupo'] = 'Metais Alcalinos'\n",
    "print(elementos)\n",
    "print(elementos['grupo'])"
   ]
  },
  {
   "cell_type": "code",
   "execution_count": null,
   "metadata": {},
   "outputs": [],
   "source": [
    "# Sets - São conjuntos e aceitam as operações da teoria de conjuntos (União, interceção, ...)\n",
    "\n",
    "planeta_anao = {'Plutão','Ceres','Eris','Haumea', 'Makemake'}"
   ]
  },
  {
   "cell_type": "markdown",
   "metadata": {},
   "source": [
    "### Seção 5 - Funções em Python"
   ]
  },
  {
   "cell_type": "code",
   "execution_count": 4,
   "metadata": {},
   "outputs": [
    {
     "name": "stdout",
     "output_type": "stream",
     "text": [
      "4\n",
      "25\n",
      "81\n",
      "144\n"
     ]
    }
   ],
   "source": [
    "# Area de declaração de Funções \n",
    "\n",
    "def quadrado(num):\n",
    "    valores = []\n",
    "    for i in num:\n",
    "        valores.append(i**2)\n",
    "    return valores\n",
    "\n",
    "\n",
    "\n",
    "# Função principal\n",
    "\n",
    "if __name__ == '__main__':\n",
    "    valores =[2,5,9,12]\n",
    "    resultados = quadrado(valores)\n",
    "    for i in resultados:\n",
    "        print(i)"
   ]
  },
  {
   "cell_type": "code",
   "execution_count": null,
   "metadata": {},
   "outputs": [
    {
     "name": "stdout",
     "output_type": "stream",
     "text": [
      "\n",
      "Variavel Global: Curso banco de dados com SQL\n",
      "Variavel Local: Fabio dos Reis\n",
      "\n",
      "O valor global não foi alterado fora da função. \n",
      ">>> Curso banco de dados com SQL\n",
      "\n",
      "A variavel local nao da pra ser acessado fora da função.\n"
     ]
    }
   ],
   "source": [
    "# Escopo de variaveis (Global e Local)\n",
    "\n",
    "var_global = 'Curos completo de Python.'\n",
    "\n",
    "def escreve_texto():\n",
    "    global var_global # para alterar a variavel global de dentro da função deve-se usar a palavra reservada global.\n",
    "    var_global = 'Curso banco de dados com SQL'\n",
    "    var_local = 'Fabio dos Reis'\n",
    "    print(f'Variavel Global: {var_global}')\n",
    "    print(f'Variavel Local: {var_local}')\n",
    "\n",
    "if __name__ == '__main__':\n",
    "    print()\n",
    "    escreve_texto()\n",
    "    print(f'\\nO valor global não foi alterado fora da função. \\n>>> {var_global}')\n",
    "    print(f'\\nA variavel local nao da pra ser acessado fora da função.')"
   ]
  },
  {
   "cell_type": "code",
   "execution_count": null,
   "metadata": {},
   "outputs": [
    {
     "name": "stdout",
     "output_type": "stream",
     "text": [
      "Não é possivel dividir por zero!\n"
     ]
    }
   ],
   "source": [
    "# Tratamento de exceções\n",
    "n1 = 24\n",
    "n2 = 0\n",
    "\n",
    "try:\n",
    "    r = round(n1 / n2, 2)\n",
    "\n",
    "except ZeroDivisionError:\n",
    "    print(f'Não é possivel dividir por zero!')\n",
    "\n",
    "else:\n",
    "    print(f'Resultado: {r}')"
   ]
  },
  {
   "cell_type": "code",
   "execution_count": 9,
   "metadata": {},
   "outputs": [
    {
     "name": "stdout",
     "output_type": "stream",
     "text": [
      "\n",
      " Valor de X1: -44.69\n",
      "\n",
      " Valor de X2:  36.69\n",
      "------------------------\n",
      "\n",
      "\n",
      " Valor de X1: -3.00+4.80j\n",
      "\n",
      " Valor de X2: -3.00-4.80j\n",
      "------------------------\n",
      "\n",
      "\n",
      " Valor de X1:  22.49\n",
      "\n",
      " Valor de X2: -10.49\n",
      "------------------------\n",
      "\n",
      "Saiu do programa.\n"
     ]
    }
   ],
   "source": [
    "def raizes(a, b, c):\n",
    "    d = (b**2 - 4*a*c)\n",
    "    x1 = (-b + d**(1/2) / 2*a)\n",
    "    x2 = (-b - d**(1/2) / 2*a)\n",
    "    print(f'\\n Valor de X1: {x1: .2f}')\n",
    "    print(f'\\n Valor de X2: {x2: .2f}')\n",
    "\n",
    "if __name__ == '__main__':\n",
    "    # print()\n",
    "    continuar = True\n",
    "    while continuar == True:\n",
    "        try:\n",
    "            # a, b, c = 3, 4, 2\n",
    "            a = int(input(f'\\nDigite o valor de a.'))\n",
    "            b = int(input(f'\\nDigite o valor de b.'))\n",
    "            c = int(input(f'\\nDigite o valor de c.'))\n",
    "\n",
    "        except ValueError:\n",
    "            print(f'\\nDigite apenas valores numericos.')\n",
    "\n",
    "        else:\n",
    "            raizes(a,b,c)\n",
    "            print('------------------------')\n",
    "            print()\n",
    "            continuar = input(f'\\n Para sair pressione? Q ?') \n",
    "            continuar = continuar.lower()\n",
    "           \n",
    "            if continuar == 'q':\n",
    "                continuar = False\n",
    "                print ('Saiu do programa.')\n",
    "            else:\n",
    "                continuar = True\n",
    "        "
   ]
  },
  {
   "cell_type": "code",
   "execution_count": 27,
   "metadata": {},
   "outputs": [
    {
     "name": "stdout",
     "output_type": "stream",
     "text": [
      "5\n",
      "4\n",
      "3\n",
      "2\n",
      "120\n"
     ]
    }
   ],
   "source": [
    "# Recursão \n",
    "\n",
    "def fatorial(n):\n",
    "    if n == 0 or n == 1:\n",
    "        return 1\n",
    "    else:\n",
    "        print(n )\n",
    "        return n * fatorial( n - 1)\n",
    "\n",
    "\n",
    "if __name__ == '__main__':\n",
    "    print(fatorial(5))\n",
    "\n",
    "    # execept RecursionError:\n",
    "    "
   ]
  },
  {
   "cell_type": "code",
   "execution_count": 10,
   "metadata": {},
   "outputs": [
    {
     "data": {
      "text/plain": [
       "5"
      ]
     },
     "execution_count": 10,
     "metadata": {},
     "output_type": "execute_result"
    }
   ],
   "source": [
    "# # Exercicio Fibonacci Recursivo\n",
    "\n",
    "def fibo(n):\n",
    "    \n",
    "  if n < 2:\n",
    "    return n\n",
    "  else:\n",
    "    return fibo (n-1) + fibo (n-2)\n",
    "\n",
    "fibo(5)\n"
   ]
  },
  {
   "cell_type": "markdown",
   "metadata": {},
   "source": [
    "### Seção 6: Recursos Avançados do Python"
   ]
  },
  {
   "cell_type": "code",
   "execution_count": null,
   "metadata": {},
   "outputs": [
    {
     "name": "stdout",
     "output_type": "stream",
     "text": [
      "1172\n"
     ]
    }
   ],
   "source": [
    "# Função Lambda\n",
    "# Funções lambda (anônimas)\n",
    "# Sintaxe:\n",
    "# lambda argumentos: expressão\n",
    "\n",
    "# quadrado = lambda x: x**2\n",
    "\n",
    "# for i in range(1,11):\n",
    "#     print(quadrado(i))\n",
    "\n",
    "# par = lambda x: x %2 == 0\n",
    "# print(par(9))\n",
    "\n",
    "# f_c = lambda f: (f - 32) * 5/9\n",
    "# print(f_c(32))\n",
    "\n",
    "# Função map()\n",
    "# Sintaxe\n",
    "# map(função, iterável)\n",
    "\n",
    "# num = [1,2,3,4,5,6,7,8]\n",
    "# dobro = list(map(lambda x: x*2, num))\n",
    "# print(dobro)\n",
    "\n",
    "# palavras = ['Python', 'é', 'uma', 'linguagem', 'de', 'programação']\n",
    "# maiúsculas = list(map(str.upper, palavras))\n",
    "# print(maiúsculas)\n",
    "\n",
    "# Função filter()\n",
    "# Sintaxe:\n",
    "# filter(função, sequência)\n",
    "\n",
    "# def numeros_pares(n):\n",
    "#     return n % 2 == 0\n",
    "\n",
    "# numeros = [1,2,3,4,5,6,7,8,9,10,11,12,13]\n",
    "\n",
    "# num_par = list(filter(numeros_pares, numeros))\n",
    "# print(num_par)\n",
    "\n",
    "# numeros = [1,2,3,4,5,6,7,8,9,10,11,12,13]\n",
    "# num_impar = list(filter(lambda x: x % 2 != 0, numeros))\n",
    "# print(num_impar)\n",
    "\n",
    "# Função reduce()\n",
    "# Sintaxe\n",
    "# reduce(função, sequência, valor_inicial)\n",
    "\n",
    "from functools import reduce\n",
    "\n",
    "# def mult(x, y):\n",
    "#     return x * y\n",
    "\n",
    "# numeros = [1,2,3,4,8,6]\n",
    "\n",
    "# total = reduce(mult, numeros)\n",
    "# print(total)\n",
    "\n",
    "# Soma cumulativa dos quadrados de valores, usando expressão lambda\n",
    "\n",
    "# numeros = [1,2,3,4]\n",
    "# # ((1² + 2²)² + 3²)² + 4²\n",
    "\n",
    "# total = reduce(lambda x, y: x**2 + y**2, numeros)\n",
    "# print(total)"
   ]
  },
  {
   "cell_type": "code",
   "execution_count": null,
   "metadata": {},
   "outputs": [
    {
     "name": "stdout",
     "output_type": "stream",
     "text": [
      "O veiculo andou.\n",
      "Marca: GM\n",
      "Modelo: Celta\n",
      "Numero do registro: None\n",
      "Numero do registro: 12123\n",
      "Marca: VW\n",
      "Modelo: Gol\n",
      "Numero do registro: 12345-13\n",
      "O Carro andou.\n",
      "Marca: Boeng\n",
      "Modelo: B745\n",
      "Numero do registro: None\n",
      "O Avião voou.\n"
     ]
    }
   ],
   "source": [
    "# POO (Classe, Objeto, Herança, Agregação, Polimorfismo)\n",
    "\n",
    "class Veiculo:\n",
    "    def movimentar (self):\n",
    "        print('O veiculo andou.')\n",
    "\n",
    "    def __init__(self, marca, modelo):\n",
    "        self.__marca = marca\n",
    "        self.__modelo = modelo\n",
    "        self.__registro = None\n",
    "    \n",
    "    # Metodos\n",
    "       # Setters\n",
    "    def set_reg (self, registro):\n",
    "        self.__registro = registro\n",
    "\n",
    "        # Getters\n",
    "    def get_modelo(self):\n",
    "        print(f'Modelo: {self.__modelo}')    \n",
    "    \n",
    "    def get_marca(self):\n",
    "        print(f'Marca: {self.__marca}')    \n",
    " \n",
    "    def get_reg (self):\n",
    "        print(f'Numero do registro: {self.__registro}')    \n",
    "        \n",
    "# Herança     \n",
    "class Carro(Veiculo):\n",
    "    # O metodo construtor (__init__) será herdado.\n",
    "    def movimentar (self):\n",
    "        print('O Carro andou.')\n",
    "\n",
    "class Moto(Veiculo):\n",
    "    # O metodo construtor (__init__) será herdado.\n",
    "    def movimentar (self):\n",
    "        print('A moto andou.') \n",
    "\n",
    "class Aviao (Veiculo):\n",
    "    def __init__(self, marca, modelo, categoria):\n",
    "        self.__categoria = categoria\n",
    "        super().__init__( marca, modelo)\n",
    "\n",
    "    def movimentar (self):\n",
    "        print('O Avião voou.')\n",
    "     \n",
    "    def get_cat (self):\n",
    "        print(f'Categoria: {self.__categoria}')    \n",
    "# Main\n",
    "if __name__ == '__main__':\n",
    "\n",
    "    v1 = Veiculo('GM' , 'Celta')\n",
    "    # print(f'Marca: {v1.marca} Modelo: {v1.modelo}')    \n",
    "    v1.movimentar()\n",
    "    v1.get_marca()\n",
    "    v1.get_modelo()\n",
    "    v1.get_reg()\n",
    "    v1.set_reg(12123)\n",
    "    v1.get_reg()\n",
    "\n",
    "    c1 = Carro('VW' , 'Gol')\n",
    "    c1.get_marca()\n",
    "    c1.get_modelo()\n",
    "    c1.set_reg('12345-13')\n",
    "    c1.get_reg()\n",
    "    c1.movimentar()\n",
    "\n",
    "\n",
    "    a1 = Aviao('Boeng' , 'B745', 'B038')\n",
    "    a1.get_marca()\n",
    "    a1.get_modelo()\n",
    "    a1.get_reg()\n",
    "    a1.movimentar()"
   ]
  },
  {
   "cell_type": "markdown",
   "metadata": {},
   "source": [
    "### Seção 7 - Matiplotlib"
   ]
  },
  {
   "cell_type": "code",
   "execution_count": 1,
   "metadata": {},
   "outputs": [],
   "source": [
    "import matplotlib.pyplot as plt"
   ]
  },
  {
   "cell_type": "code",
   "execution_count": 37,
   "metadata": {},
   "outputs": [
    {
     "data": {
      "image/png": "[encoded data removed]",
      "text/plain": [
       "<Figure size 640x480 with 1 Axes>"
      ]
     },
     "metadata": {},
     "output_type": "display_data"
    }
   ],
   "source": [
    "x_dias = [1,5,10,15,20,25,30]\n",
    "Temp_max = [28,29,25,32,34,36,31]\n",
    "Temp_min = [21,22,17,23,23,24,20]\n",
    "\n",
    "#Graficos de Linhas\n",
    "plt.plot(x_dias, Temp_max, marker = 'o', label='Temp_max')\n",
    "plt.plot(x_dias, Temp_min, marker = 'o',  label='Temp_min')\n",
    "\n",
    "plt.legend(loc='best')\n",
    "# plt.legend(['Temp_max', 'Temp_min']) # essa linha pode ser trcada pelo Label como parametro no plot.\n",
    "plt.xlim([1,31])\n",
    "plt.ylim([0,45])\n",
    "\n",
    "\n",
    "plt.title('Temperaturas')\n",
    "plt.xlabel('Dias')\n",
    "plt.ylabel('Temperaturas')\n",
    "\n",
    "plt.grid()\n",
    "\n",
    "# plt.savefig('meu_grafico.png')\n",
    "plt.show()\n",
    "\n",
    "\n"
   ]
  },
  {
   "cell_type": "code",
   "execution_count": 39,
   "metadata": {},
   "outputs": [
    {
     "data": {
      "image/png": "[encoded data removed]",
      "text/plain": [
       "<Figure size 640x480 with 1 Axes>"
      ]
     },
     "metadata": {},
     "output_type": "display_data"
    }
   ],
   "source": [
    "# Criar posição para cada barra\n",
    "\n",
    "width = 0.8 # Largura das barras # Cria o gráfico com deslocamento \n",
    "plt.bar([x - width/2 for x in x_dias], Temp_max, width=width, label='Temp_max') \n",
    "plt.bar([x + width/2 for x in x_dias], Temp_min, width=width, color='#fc7303', label='Temp_min')\n",
    "\n",
    "\n",
    "# Cria o grafico\n",
    "# plt.bar(x_dias, Temp_max, label='Temp_max')\n",
    "# plt.bar(x_dias, Temp_min,color= '#fc7303',label='Temp_min')\n",
    "# plt.xticks()\n",
    "\n",
    "# Add as infos\n",
    "plt.legend(loc='best')\n",
    "plt.xlim([1,31])\n",
    "plt.ylim([0,50])\n",
    "\n",
    "plt.title('Temperaturas')\n",
    "plt.xlabel('Dias')\n",
    "plt.ylabel('Temperaturas')\n",
    "\n",
    "plt.grid()\n",
    "\n",
    "# plt.savefig('meu_grafico.png')\n",
    "plt.show()"
   ]
  },
  {
   "cell_type": "code",
   "execution_count": null,
   "metadata": {},
   "outputs": [
    {
     "data": {
      "image/png": "[encoded data removed]",
      "text/plain": [
       "<Figure size 640x480 with 1 Axes>"
      ]
     },
     "metadata": {},
     "output_type": "display_data"
    }
   ],
   "source": [
    "linguagens = ['Python', 'JS', 'C/C++', 'C#']\n",
    "quantidade = [300, 280,125,47]\n",
    "\n",
    "cores = ('#008080', '#20B2AA','#FF4500','#00CED1')\n",
    "distancia = (0,0,0.2,0)\n",
    "\n",
    "\n",
    "\n",
    "plt.pie(quantidade, labels=linguagens, autopct='%1.2f%%', startangle=90, colors = cores, explode=distancia) # explode destaca as fatias dejejadas\n",
    "# startangle rotaciona o grafico para uma vizualização desejada.\n",
    "plt.title('Preferencias de Linguagens de Programação')\n",
    "plt.legend(title ='Linguagens', loc='best',bbox_to_anchor = (1, 0.8)) # bbox_to_anchor não vai deixar sobrepor o grafico\n",
    "\n",
    "# , , bbox_to_anchor = (1, 0.8)\n",
    "\n",
    "plt.show()"
   ]
  },
  {
   "cell_type": "code",
   "execution_count": 80,
   "metadata": {},
   "outputs": [
    {
     "data": {
      "image/png": "[encoded data removed]",
      "text/plain": [
       "<Figure size 400x300 with 2 Axes>"
      ]
     },
     "metadata": {},
     "output_type": "display_data"
    }
   ],
   "source": [
    "fig , axs = plt.subplots(nrows=1, ncols = 2, figsize=(4,3))\n",
    "fig.suptitle('Aula Matiplotlib')\n",
    "\n",
    "# linguagens = ['Python', 'JS', 'C/C++', 'C#']\n",
    "# quantidade = [300, 280,125,47]\n",
    "\n",
    "# axs[0].pie(quantidade, labels=linguagens, autopct='%1.2f%%', startangle=90, colors = cores, explode=distancia) # explode destaca as fatias dejejadas\n",
    "\n",
    "#Graficos de Linhas\n",
    "axs[0].plot(x_dias, Temp_max, marker = 'o', label='Temp_max')\n",
    "axs[0].plot(x_dias, Temp_min, marker = 'o',  label='Temp_min')\n",
    "axs[0].set_title('Subplot esquerdo')\n",
    "\n",
    "# axs[0].legend(loc='best')\n",
    "# axs[0].xlim([1,31])\n",
    "# axs[0].ylim([0,50])\n",
    "\n",
    "# axs[0].title('Temperaturas')\n",
    "# axs[0].xlabel('Dias')\n",
    "# axs[0].ylabel('Temperaturas')\n",
    "\n",
    "axs[0].grid()\n",
    "\n",
    "\n",
    "# Graficos de Barras\n",
    "width = 0.8 # Largura das barras # Cria o gráfico com deslocamento \n",
    "axs[1].bar([x - width/2 for x in x_dias], Temp_max, width=width, label='Temp_max') \n",
    "axs[1].bar([x + width/2 for x in x_dias], Temp_min, width=width, color='#fc7303', label='Temp_min')\n",
    "axs[1].set_title('Subplot direito')\n",
    "\n",
    "\n",
    "plt.show()"
   ]
  },
  {
   "cell_type": "code",
   "execution_count": null,
   "metadata": {},
   "outputs": [],
   "source": []
  }
 ],
 "metadata": {
  "kernelspec": {
   "display_name": "Python 3",
   "language": "python",
   "name": "python3"
  },
  "language_info": {
   "codemirror_mode": {
    "name": "ipython",
    "version": 3
   },
   "file_extension": ".py",
   "mimetype": "text/x-python",
   "name": "python",
   "nbconvert_exporter": "python",
   "pygments_lexer": "ipython3",
   "version": "3.13.0"
  }
 },
 "nbformat": 4,
 "nbformat_minor": 2
}
