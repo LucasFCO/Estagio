{
 "cells": [
  {
   "cell_type": "markdown",
   "metadata": {},
   "source": [
    "# Programação com Python - do Zero ao Avançado"
   ]
  },
  {
   "cell_type": "markdown",
   "metadata": {},
   "source": [
    "### Seção 2"
   ]
  },
  {
   "cell_type": "code",
   "execution_count": 2,
   "metadata": {},
   "outputs": [
    {
     "name": "stdout",
     "output_type": "stream",
     "text": [
      "Subtração 52 \n",
      "Multiplicação 1925 \n",
      "MOD 2 \n",
      "Potenciação 145300841439648009494965894021269151109946912557 \n",
      "Divisão inteira: 3 \n",
      "Divisão real: 3.08 \n"
     ]
    }
   ],
   "source": [
    "# Exercico 1 - Exibir na tela o resultado das oepraçôes.\n",
    "\n",
    "x = int(input('Informe um numero inteiro:'))\n",
    "y = int(input('Informe um outro numero inteiro:'))\n",
    "print(f'Subtração {x - y} \\nMultiplicação {x * y} \\nMOD {x % y} \\nPotenciação {x ** y} \\nDivisão inteira: {x // y} \\nDivisão real: {x / y} ')"
   ]
  },
  {
   "cell_type": "code",
   "execution_count": null,
   "metadata": {},
   "outputs": [
    {
     "name": "stdout",
     "output_type": "stream",
     "text": [
      "X é maior que Y? False \n",
      "X é igual a Y? False \n",
      "X é diferente de Y? True\n",
      "\n",
      "Aluno aprovado: True\n"
     ]
    }
   ],
   "source": [
    "# Operadores de comparação ou relacionais (<,<=, >, >=, ==, !=)\n",
    "x = 5\n",
    "y = 9\n",
    "print(f'X é maior que Y? {x > y} \\nX é igual a Y? {x == y} \\nX é diferente de Y? {x != y}')\n",
    "\n",
    "\n",
    "# Operadores lógicos (And, or, not)\n",
    "notas, faltas = 8 ,16\n",
    "\n",
    "msg = (notas >= 6) and (faltas <= 18)\n",
    "print(f'\\nAluno aprovado: {msg}')\n"
   ]
  },
  {
   "cell_type": "markdown",
   "metadata": {},
   "source": [
    "### Seção 3 - Estruturas de controle"
   ]
  },
  {
   "cell_type": "code",
   "execution_count": null,
   "metadata": {},
   "outputs": [
    {
     "name": "stdout",
     "output_type": "stream",
     "text": [
      "Aprovado!!!\n"
     ]
    }
   ],
   "source": [
    "# 1) Exercicio\n",
    "\n",
    "n1 = float(input(\"Informe a nota 1. \"))\n",
    "n2 = float(input(\"Informe a nota 2. \"))\n",
    "faltas = int(input(\"Informe numero de faltas. \"))\n",
    "media = (n1 + n2)/2\n",
    "\n",
    "if (faltas < 10): # Se o numero de fatas é igual ou maior 10, reprovado altomaticamente.\n",
    "    if (media >= 6):        # Se media maior igual a 6, Aprovado.\n",
    "        print(\"Aprovado!!!\")\n",
    "    elif (media >= 5):      # Se media maior igual a 5 e menor 6, em recuperação.\n",
    "        print(\"Em recuperação!\")\n",
    "    else:\n",
    "        print(\"Reprovado por nota.\")\n",
    "else:        \n",
    "    print('Reprovado!!!')\n",
    "    "
   ]
  },
  {
   "cell_type": "code",
   "execution_count": 2,
   "metadata": {},
   "outputs": [
    {
     "name": "stdout",
     "output_type": "stream",
     "text": [
      "A mensagem começa aqui e contunua no print de baixo, mas na mesma linha.\n",
      "\n",
      "Este é Joselito, ele tem 30 anos de idade.\n",
      "\n",
      "Este é Joselito, ele tem 30 anos de idade.\n",
      "O valor de Pi é: 3.1416\n"
     ]
    }
   ],
   "source": [
    "print(\"A mensagem começa aqui\", end='')\n",
    "print(\" e contunua no print de baixo, mas na mesma linha.\")\n",
    "\n",
    "nome, idade = 'Joselito', 30\n",
    "pi = 3.141592653\n",
    "print('\\nEste é {}, ele tem {} anos de idade.'.format(nome, idade))\n",
    "print(f'\\nEste é {nome}, ele tem {idade} anos de idade.')\n",
    "\n",
    "print(f'O valor de Pi é: {pi:.4f}')"
   ]
  },
  {
   "cell_type": "code",
   "execution_count": null,
   "metadata": {},
   "outputs": [
    {
     "name": "stdout",
     "output_type": "stream",
     "text": [
      "1\n",
      "2\n",
      "3\n",
      "4\n",
      "5\n",
      "6\n",
      "7\n",
      "8\n",
      "9\n",
      "10\n",
      "Laço encerrado.\n"
     ]
    }
   ],
   "source": [
    "# Laço de repetição\n",
    "# While\n",
    "\n",
    "n = 1\n",
    "while(n <=3):\n",
    "    print(n)\n",
    "    n +=1\n",
    "print('Laço encerrado.')\n",
    "\n",
    "##########################\n",
    "nome = None\n",
    "while True:\n",
    "    print('Informe seu nome.')\n",
    "    nome = input()\n",
    "    if nome == 'X' or nome == 'x':\n",
    "        break\n",
    "\n",
    "    print(f'Bem vindo, {nome}\\n')\n",
    "print('Ate logo!')"
   ]
  },
  {
   "cell_type": "code",
   "execution_count": null,
   "metadata": {},
   "outputs": [
    {
     "name": "stdout",
     "output_type": "stream",
     "text": [
      "Rubi\n",
      "Esmeralda\n",
      "Safira\n",
      "Diamante\n",
      "Rodada - 0\n",
      "Nº sorteado: 98\n",
      "Nº sorteado: 14\n",
      "Nº sorteado: 87\n",
      "Rodada - 1\n",
      "Nº sorteado: 34\n",
      "Nº sorteado: 84\n",
      "Nº sorteado: 1\n",
      "Rodada - 2\n",
      "Nº sorteado: 97\n",
      "Nº sorteado: 75\n",
      "Nº sorteado: 94\n",
      "Rodada - 3\n",
      "Nº sorteado: 63\n",
      "Nº sorteado: 43\n",
      "Nº sorteado: 39\n",
      "Rodada - 4\n",
      "Nº sorteado: 9\n",
      "Nº sorteado: 86\n",
      "Nº sorteado: 35\n"
     ]
    }
   ],
   "source": [
    "# Laço For\n",
    "# lista1 = [1,2,3,4,5]\n",
    "# print('\\nFor percorrendo uma lista.')\n",
    "# for i in lista1:\n",
    "#     print(i)\n",
    "\n",
    "# print('\\nFor icrementação simples por uma faixa.')\n",
    "# for i in range(0,5): # ou for i in range(5): ou for i in range(len(lista1)):\n",
    "#     print(i)\n",
    "\n",
    "# print('\\nFor icrementação por um valor em uma faixa.')\n",
    "# for i in range(0,22,2): # ou for i in range(5): ou for i in range(len(lista1)):\n",
    "#     print(i)\n",
    "\n",
    "# pedras = ('Rubi','Esmeralda', 'Quartzo', 'Safira', 'Diamante')\n",
    "# for pedra in pedras:\n",
    "#     if pedra == 'Quartzo':\n",
    "#         continue\n",
    "#     print(pedra)    \n",
    "\n",
    "import random\n",
    "# num = None\n",
    "for i in range(0,5):\n",
    "    print(f'Rodada - {i}')\n",
    "    for i in range(3):\n",
    "        num = random.randint(0,100)\n",
    "        print(f'Nº sorteado: {num}')"
   ]
  },
  {
   "cell_type": "markdown",
   "metadata": {},
   "source": [
    "### Seção 4 - "
   ]
  },
  {
   "cell_type": "code",
   "execution_count": null,
   "metadata": {},
   "outputs": [
    {
     "name": "stdout",
     "output_type": "stream",
     "text": [
      "Numero escolhido: 11\n",
      "Numero escolhido: [84, 11, 31]\n",
      "lista Embaralhada: [4, 9, 54, 6, 84, 7, 26, 2, 32, 11, 31]\n"
     ]
    }
   ],
   "source": [
    "# Import modulos\n",
    "## Math\n",
    "\n",
    "# import math # importa toda a biblioteca math.\n",
    "# from math import sqrt, sin # importa somente as funções requeridas.\n",
    "# from math import * # import universal. Não é recomendado pois pode conflitar com funções criadas pelo user.\n",
    "# print(sqrt(81))\n",
    "\n",
    "## Random\n",
    "\n",
    "# import random\n",
    "# for i in range(5):\n",
    "#     valor = random.randint(0,100)\n",
    "#     print(f'O numero gerado é: {valor}')\n",
    "\n",
    "# valor = random.random() # não pode passar o intervalo e o numero é gerado entre 0 e 1.\n",
    "# print(f'O numero gerado é: {valor}')\n",
    "# print(f'O numero gerado com mudança de escala e arredondamento: {round(valor * 10, 2)}')\n",
    "\n",
    "L = [2,4,6,9,7,84,32,11,54,26,31]\n",
    "x = random.choice(L)\n",
    "print(f'Numero escolhido: {x}')\n",
    "\n",
    "x = random.sample(L,3)\n",
    "print(f'Numero escolhido: {x}')\n",
    "\n",
    "x = random.shuffle(L)\n",
    "print(f'lista Embaralhada: {L}')\n"
   ]
  },
  {
   "cell_type": "code",
   "execution_count": 46,
   "metadata": {},
   "outputs": [
    {
     "name": "stdout",
     "output_type": "stream",
     "text": [
      "[8, 6, 7, 4, 9, 1, 2, 0, 12, 11, 3]\n",
      "[12, 11, 9, 8, 7, 6, 4, 3, 2, 1, 0]\n",
      "False\n",
      "None\n",
      "[0, 1, 2, 3, 11, 12]\n"
     ]
    }
   ],
   "source": [
    "## Listas\n",
    "n1 = [8,6,7,4,9]\n",
    "n2 = [1,2,0,12,11,3]\n",
    "valores = n1 + n2 # concatena as listas.\n",
    "print(valores)\n",
    "print(sorted(valores, reverse=True))\n",
    "print(15 in valores)\n",
    "# valores\n",
    "# a = []\n",
    "# a = n1.sort()\n",
    "print(n1.sort())\n",
    "print(sorted(n2))"
   ]
  },
  {
   "cell_type": "code",
   "execution_count": 54,
   "metadata": {},
   "outputs": [
    {
     "name": "stdout",
     "output_type": "stream",
     "text": [
      "2.8284271247461903\n",
      "2.83\n",
      "Arredondando a raiz quadrada pra cima:  3\n",
      "Arredondando a raiz quadrada pra baixo:  2\n",
      "2.0\n",
      "3.141592653589793\n",
      "40320\n",
      "0.0\n"
     ]
    }
   ],
   "source": [
    "# Funções Matematicas (MATH)\n",
    "import math\n",
    "\n",
    "x= 8\n",
    "y= 100\n",
    "\n",
    "raiz_q = math.sqrt(x)\n",
    "print(raiz_q)\n",
    "print(round(raiz_q, 2))\n",
    "print('Arredondando a raiz quadrada pra cima: ',math.ceil(raiz_q))\n",
    "print('Arredondando a raiz quadrada pra baixo: ',math.floor(raiz_q))\n",
    "print(math.log10(y))\n",
    "print(math.pi)\n",
    "print(math.factorial(x))\n",
    "print(x / math.inf)"
   ]
  },
  {
   "cell_type": "code",
   "execution_count": 74,
   "metadata": {},
   "outputs": [
    {
     "name": "stdout",
     "output_type": "stream",
     "text": [
      "2024-11-22 14:21:00.700620\n"
     ]
    }
   ],
   "source": [
    "# Modulo Date-Time\n",
    "import datetime\n",
    "agora = datetime.datetime.now()\n",
    "print(agora)\n",
    "# vencimento = agora + timedelta(days = 42)\n",
    "# print(vencimento)\n",
    "# print(f'O boleto vence em {vencimento.strftime(\"%d/%m/%Y\")}')"
   ]
  },
  {
   "cell_type": "code",
   "execution_count": 89,
   "metadata": {},
   "outputs": [
    {
     "name": "stdout",
     "output_type": "stream",
     "text": [
      "2022-12-21\n",
      "2024-11-22\n",
      "2024-11-22 14:31:25.175631\n",
      "2024-11-22 14:31:25.175670\n",
      "Mes:\t 11\n",
      "Data:\t 22/11/2024\n",
      "Horas:\t 14:31:25\n",
      "faltam 20 dias para o aniversario.\n"
     ]
    }
   ],
   "source": [
    "import datetime\n",
    "data = datetime.date(2022,12,21)\n",
    "print(data)\n",
    "print(datetime.date.today())\n",
    "print(datetime.datetime.today())\n",
    "print(datetime.datetime.now())\n",
    "data_completa = datetime.datetime.now()\n",
    "print('Mes:\\t',data_completa.month)\n",
    "# print(datetime.datetime.now().month)\n",
    "hoje = datetime.datetime.now()\n",
    "print('Data:\\t',hoje.strftime(\"%d/%m/%Y\"))\n",
    "print('Horas:\\t',hoje.strftime(\"%H:%M:%S\"))\n",
    "festa = datetime.datetime(2024, 12, 12,18,00)\n",
    "dias = festa - hoje\n",
    "print(f'faltam {dias.days} dias para o aniversario.')\n",
    "\n",
    "# vencimento = agora + timedelta(days = 42)\n",
    "# print(vencimento)\n",
    "# print(f'O boleto vence em {vencimento.strftime(\"%d/%m/%Y\")}')"
   ]
  },
  {
   "cell_type": "code",
   "execution_count": 95,
   "metadata": {},
   "outputs": [
    {
     "name": "stdout",
     "output_type": "stream",
     "text": [
      "5\n",
      "22:02:09\n"
     ]
    }
   ],
   "source": [
    "from datetime import datetime, timedelta\n",
    "import time\n",
    "delta_days = timedelta(days=5)\n",
    "print(delta_days.days)\n",
    "h = time.strftime(\"%H:%M:%S\", time.localtime())\n",
    "print(h)"
   ]
  },
  {
   "cell_type": "markdown",
   "metadata": {},
   "source": [
    "<!-- Comentario oculto -->\n",
    "Comentario"
   ]
  },
  {
   "cell_type": "code",
   "execution_count": null,
   "metadata": {},
   "outputs": [],
   "source": []
  }
 ],
 "metadata": {
  "kernelspec": {
   "display_name": "Python 3",
   "language": "python",
   "name": "python3"
  },
  "language_info": {
   "codemirror_mode": {
    "name": "ipython",
    "version": 3
   },
   "file_extension": ".py",
   "mimetype": "text/x-python",
   "name": "python",
   "nbconvert_exporter": "python",
   "pygments_lexer": "ipython3",
   "version": "3.13.0"
  }
 },
 "nbformat": 4,
 "nbformat_minor": 2
}
