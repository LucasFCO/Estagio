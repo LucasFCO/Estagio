{
 "cells": [
  {
   "cell_type": "code",
   "execution_count": 1,
   "metadata": {},
   "outputs": [],
   "source": [
    "import pandas as pd\n",
    "import numpy as np\n",
    "\n",
    "import matplotlib.pyplot as plt\n",
    "import seaborn as sns\n",
    "from sklearn.model_selection import train_test_split\n",
    "\n",
    "from sklearn.preprocessing import LabelEncoder\n",
    "from sklearn.metrics import accuracy_score, precision_score, recall_score, f1_score, classification_report, confusion_matrix\n",
    "\n",
    "from sklearn.tree import export_graphviz\n",
    "\n",
    "from scipy.cluster.hierarchy import dendrogram, linkage\n",
    "\n",
    "from sklearn import datasets\n",
    "\n",
    "# import graphviz\n",
    "# from yellowbrick.classifier import ConfusionMatrix # não vou usar yellowbrick"
   ]
  },
  {
   "cell_type": "code",
   "execution_count": 64,
   "metadata": {},
   "outputs": [],
   "source": [
    "# contem só os algoritmos usados\n",
    "from sklearn.naive_bayes import GaussianNB\n",
    "\n",
    "# from sklearn.tree import DecisionTreeClassifier\n",
    "\n",
    "# from sklearn.ensemble import RandomForestClassifier\n",
    "\n",
    "from sklearn.neighbors import KNeighborsClassifier\n",
    "\n",
    "from sklearn.cluster import KMeans ,AgglomerativeClustering, DBSCAN\n",
    "\n",
    "\n",
    "# não vai ser testado\n",
    "# from mlxtend.frequent_patterns import TransactionEncoder\n",
    "# from mlxtend.frequent_patterns import apriori, association\n"
   ]
  },
  {
   "cell_type": "code",
   "execution_count": null,
   "metadata": {},
   "outputs": [],
   "source": [
    "# DESINSTALAR AO FINAL DO CURSO\n",
    "\n",
    "# mlxtend\n",
    "# graphviz"
   ]
  },
  {
   "cell_type": "markdown",
   "metadata": {},
   "source": [
    "## Seção 3 - Estudos de Algoritmos de Machine Learning"
   ]
  },
  {
   "cell_type": "markdown",
   "metadata": {},
   "source": [
    "### Regressão Linear"
   ]
  },
  {
   "cell_type": "markdown",
   "metadata": {},
   "source": [
    "#### Regressão Linear (calculado)"
   ]
  },
  {
   "cell_type": "code",
   "execution_count": null,
   "metadata": {},
   "outputs": [],
   "source": [
    "####"
   ]
  },
  {
   "cell_type": "markdown",
   "metadata": {},
   "source": [
    "#### Regressão linar Statsmodels"
   ]
  },
  {
   "cell_type": "markdown",
   "metadata": {},
   "source": [
    "### IMPORT"
   ]
  },
  {
   "cell_type": "code",
   "execution_count": null,
   "metadata": {},
   "outputs": [],
   "source": [
    "df = pd.read_csv('.\\\\data\\\\insurance.csv')\n",
    "df.head()"
   ]
  },
  {
   "cell_type": "code",
   "execution_count": 5,
   "metadata": {},
   "outputs": [],
   "source": [
    "df = df.drop(columns=['Unnamed: 0'], axis=1)\n",
    "# df.head()"
   ]
  },
  {
   "cell_type": "code",
   "execution_count": null,
   "metadata": {},
   "outputs": [],
   "source": [
    "df.shape"
   ]
  },
  {
   "cell_type": "code",
   "execution_count": 7,
   "metadata": {},
   "outputs": [],
   "source": [
    "# Divide em variáveis dependentes e independentes\n",
    "y = df['Accident'] # Variável dependente\n",
    "x = df.drop(columns=['Accident'], axis=1) # Variáveis independentes"
   ]
  },
  {
   "cell_type": "code",
   "execution_count": 8,
   "metadata": {},
   "outputs": [],
   "source": [
    "# Aplica o LabelEncoder para transformar as variáveis categóricas em numéricas\n",
    "label_encoder = LabelEncoder() # Instancia o LabelEncoder\n",
    "\n",
    "x = x.apply(label_encoder.fit_transform) # Aplica o LabelEncoder em todas as colunas\n",
    "y = label_encoder.fit_transform(y) # Aplica o LabelEncoder na variável dependente"
   ]
  },
  {
   "cell_type": "code",
   "execution_count": 9,
   "metadata": {},
   "outputs": [],
   "source": [
    "# transforma em array para poder passar para o modelo\n",
    "x = np.array(x)\n",
    "y = np.array(y)"
   ]
  },
  {
   "cell_type": "code",
   "execution_count": 10,
   "metadata": {},
   "outputs": [],
   "source": [
    "# Divide em treino e teste\n",
    "x_treino, x_teste, y_treino, y_teste = train_test_split(x, y, test_size=0.3, random_state=1)"
   ]
  },
  {
   "cell_type": "markdown",
   "metadata": {},
   "source": [
    "### 1) Naive Bayes"
   ]
  },
  {
   "cell_type": "code",
   "execution_count": null,
   "metadata": {},
   "outputs": [],
   "source": [
    "# instacia o modelo e aplica o treinamento considerando os dados de treino\n",
    "modelo = GaussianNB()\n",
    "modelo.fit(x_treino, y_treino) # a função fit treina o modelo"
   ]
  },
  {
   "cell_type": "code",
   "execution_count": 154,
   "metadata": {},
   "outputs": [],
   "source": [
    "# Aplica o modelo treinado para fazer a predição\n",
    "resultado = modelo.predict(x_teste) # a função predict faz a predição"
   ]
  },
  {
   "cell_type": "code",
   "execution_count": 155,
   "metadata": {},
   "outputs": [],
   "source": [
    "# Avalia o modelo\n",
    "acuracia = accuracy_score(y_teste, resultado) # a função accuracy_score compara y_teste e o resultado da predição (y_saida) \n",
    "precision = precision_score(y_teste, resultado, average='weighted')\n",
    "recall = recall_score(y_teste, resultado, average='weighted')\n",
    "f1 = f1_score(y_teste, resultado, average='weighted')"
   ]
  },
  {
   "cell_type": "code",
   "execution_count": null,
   "metadata": {},
   "outputs": [],
   "source": [
    "print(f'Acuracia : {acuracia :.2f} \\nPrecision: {precision:.2f} \\nRecall: {recall :.2f} \\nF1-Score: {f1 :.2f}' )\n"
   ]
  },
  {
   "cell_type": "code",
   "execution_count": null,
   "metadata": {},
   "outputs": [],
   "source": [
    "report = classification_report(y_teste, resultado)\n",
    "print(report) \n",
    "#macro avg: média simples da coluna de cima"
   ]
  },
  {
   "cell_type": "code",
   "execution_count": null,
   "metadata": {},
   "outputs": [],
   "source": [
    "matrisc = confusion_matrix(y_teste, resultado)\n",
    "\n",
    "#  no_reducion = confusion_matrix(y_test, y_pred)\n",
    "plt.figure(figsize=(8, 6))\n",
    "sns.heatmap(matrisc, annot=True, fmt='d', cmap='magma', cbar=False, )\n",
    "plt.title('GaussianNB - Matriz de Confusão ')\n",
    "plt.xlabel('Predicted labels')\n",
    "plt.ylabel('True labels')\n",
    "plt.show()"
   ]
  },
  {
   "cell_type": "markdown",
   "metadata": {},
   "source": [
    "### Decision Tree "
   ]
  },
  {
   "cell_type": "code",
   "execution_count": null,
   "metadata": {},
   "outputs": [],
   "source": [
    "modelo = DecisionTreeClassifier(random_state=1)\n",
    "modelo.fit(x_treino, y_treino)"
   ]
  },
  {
   "cell_type": "code",
   "execution_count": 171,
   "metadata": {},
   "outputs": [],
   "source": [
    "# Aplica o modelo treinado para fazer a predição\n",
    "resultado = modelo.predict(x_teste) # a função predict faz a predição"
   ]
  },
  {
   "cell_type": "code",
   "execution_count": 172,
   "metadata": {},
   "outputs": [],
   "source": [
    "# Avalia o modelo\n",
    "acuracia = accuracy_score(y_teste, resultado) # a função accuracy_score compara y_teste e o resultado da predição (y_saida) \n",
    "precision = precision_score(y_teste, resultado, average='weighted')\n",
    "recall = recall_score(y_teste, resultado, average='weighted')\n",
    "f1 = f1_score(y_teste, resultado, average='weighted')"
   ]
  },
  {
   "cell_type": "code",
   "execution_count": null,
   "metadata": {},
   "outputs": [],
   "source": [
    "print(f'Acuracia : {acuracia :.2f} \\nPrecision: {precision:.2f} \\nRecall: {recall :.2f} \\nF1-Score: {f1 :.2f}' )\n"
   ]
  },
  {
   "cell_type": "code",
   "execution_count": null,
   "metadata": {},
   "outputs": [],
   "source": [
    "report = classification_report(y_teste, resultado)\n",
    "print(report) \n",
    "#macro avg: média simples da coluna de cima"
   ]
  },
  {
   "cell_type": "code",
   "execution_count": null,
   "metadata": {},
   "outputs": [],
   "source": [
    "data = export_graphviz(modelo, out_file=None, feature_names=df.columns[:-1], class_names=True, rounded=True)\n",
    "graph = graphviz.Source(data)\n",
    "graph.render('decision_tree_graphivz', format = 'png')"
   ]
  },
  {
   "cell_type": "markdown",
   "metadata": {},
   "source": [
    "### Random Forest"
   ]
  },
  {
   "cell_type": "code",
   "execution_count": null,
   "metadata": {},
   "outputs": [],
   "source": [
    "# rodar primeiro e deixar salvo os resultados\n",
    "# modelo = RandomForestClassifier(random_state=1, n_estimators=500) \n",
    "\n",
    "# rodar depois do primeiro e compara os resultados\n",
    "modelo = RandomForestClassifier(random_state=1, n_estimators=100, max_depth=8, max_leaf_nodes=8)\n",
    "modelo.fit(x_treino, y_treino)"
   ]
  },
  {
   "cell_type": "code",
   "execution_count": 134,
   "metadata": {},
   "outputs": [],
   "source": [
    "resultado = modelo.predict(x_teste)"
   ]
  },
  {
   "cell_type": "code",
   "execution_count": 135,
   "metadata": {},
   "outputs": [],
   "source": [
    "# Avalia o modelo\n",
    "acuracia = accuracy_score(y_teste, resultado) # a função accuracy_score compara y_teste e o resultado da predição (y_saida) \n",
    "precision = precision_score(y_teste, resultado, average='weighted')\n",
    "recall = recall_score(y_teste, resultado, average='weighted')\n",
    "f1 = f1_score(y_teste, resultado, average='weighted')\n",
    "print(f'Acuracia : {acuracia :.2f} \\nPrecision: {precision:.2f} \\nRecall: {recall :.2f} \\nF1-Score: {f1 :.2f}' )"
   ]
  },
  {
   "cell_type": "code",
   "execution_count": null,
   "metadata": {},
   "outputs": [],
   "source": []
  },
  {
   "cell_type": "code",
   "execution_count": null,
   "metadata": {},
   "outputs": [],
   "source": [
    "# visualizar a arvore de decisão\n",
    "tree_index = 0\n",
    "visualizacao_tree = modelo.estimators_[tree_index]\n"
   ]
  },
  {
   "cell_type": "code",
   "execution_count": null,
   "metadata": {},
   "outputs": [],
   "source": [
    "plt.figure(figsize=(20,10))\n",
    "plot_tree(visualizacao_tree, filled=True,feature_names=df.columns[:-1], rounded=True )\n",
    "plt.show()"
   ]
  },
  {
   "cell_type": "markdown",
   "metadata": {},
   "source": [
    "* Classificação baseda em instancia.\n",
    "### KNN-neighborns"
   ]
  },
  {
   "cell_type": "code",
   "execution_count": 3,
   "metadata": {},
   "outputs": [
    {
     "data": {
      "text/html": [
       "<div>\n",
       "<style scoped>\n",
       "    .dataframe tbody tr th:only-of-type {\n",
       "        vertical-align: middle;\n",
       "    }\n",
       "\n",
       "    .dataframe tbody tr th {\n",
       "        vertical-align: top;\n",
       "    }\n",
       "\n",
       "    .dataframe thead th {\n",
       "        text-align: right;\n",
       "    }\n",
       "</style>\n",
       "<table border=\"1\" class=\"dataframe\">\n",
       "  <thead>\n",
       "    <tr style=\"text-align: right;\">\n",
       "      <th></th>\n",
       "      <th>Unnamed: 0</th>\n",
       "      <th>mpg</th>\n",
       "      <th>cyl</th>\n",
       "      <th>disp</th>\n",
       "      <th>hp</th>\n",
       "      <th>drat</th>\n",
       "      <th>wt</th>\n",
       "      <th>qsec</th>\n",
       "      <th>vs</th>\n",
       "      <th>am</th>\n",
       "      <th>gear</th>\n",
       "      <th>carb</th>\n",
       "    </tr>\n",
       "  </thead>\n",
       "  <tbody>\n",
       "    <tr>\n",
       "      <th>0</th>\n",
       "      <td>Mazda RX4</td>\n",
       "      <td>21.0</td>\n",
       "      <td>6</td>\n",
       "      <td>160.0</td>\n",
       "      <td>110</td>\n",
       "      <td>3.90</td>\n",
       "      <td>2.620</td>\n",
       "      <td>16.46</td>\n",
       "      <td>0</td>\n",
       "      <td>1</td>\n",
       "      <td>4</td>\n",
       "      <td>4</td>\n",
       "    </tr>\n",
       "    <tr>\n",
       "      <th>1</th>\n",
       "      <td>Mazda RX4 Wag</td>\n",
       "      <td>21.0</td>\n",
       "      <td>6</td>\n",
       "      <td>160.0</td>\n",
       "      <td>110</td>\n",
       "      <td>3.90</td>\n",
       "      <td>2.875</td>\n",
       "      <td>17.02</td>\n",
       "      <td>0</td>\n",
       "      <td>1</td>\n",
       "      <td>4</td>\n",
       "      <td>4</td>\n",
       "    </tr>\n",
       "    <tr>\n",
       "      <th>2</th>\n",
       "      <td>Datsun 710</td>\n",
       "      <td>22.8</td>\n",
       "      <td>4</td>\n",
       "      <td>108.0</td>\n",
       "      <td>93</td>\n",
       "      <td>3.85</td>\n",
       "      <td>2.320</td>\n",
       "      <td>18.61</td>\n",
       "      <td>1</td>\n",
       "      <td>1</td>\n",
       "      <td>4</td>\n",
       "      <td>1</td>\n",
       "    </tr>\n",
       "    <tr>\n",
       "      <th>3</th>\n",
       "      <td>Hornet 4 Drive</td>\n",
       "      <td>21.4</td>\n",
       "      <td>6</td>\n",
       "      <td>258.0</td>\n",
       "      <td>110</td>\n",
       "      <td>3.08</td>\n",
       "      <td>3.215</td>\n",
       "      <td>19.44</td>\n",
       "      <td>1</td>\n",
       "      <td>0</td>\n",
       "      <td>3</td>\n",
       "      <td>1</td>\n",
       "    </tr>\n",
       "    <tr>\n",
       "      <th>4</th>\n",
       "      <td>Hornet Sportabout</td>\n",
       "      <td>18.7</td>\n",
       "      <td>8</td>\n",
       "      <td>360.0</td>\n",
       "      <td>175</td>\n",
       "      <td>3.15</td>\n",
       "      <td>3.440</td>\n",
       "      <td>17.02</td>\n",
       "      <td>0</td>\n",
       "      <td>0</td>\n",
       "      <td>3</td>\n",
       "      <td>2</td>\n",
       "    </tr>\n",
       "  </tbody>\n",
       "</table>\n",
       "</div>"
      ],
      "text/plain": [
       "          Unnamed: 0   mpg  cyl   disp   hp  drat     wt   qsec  vs  am  gear  \\\n",
       "0          Mazda RX4  21.0    6  160.0  110  3.90  2.620  16.46   0   1     4   \n",
       "1      Mazda RX4 Wag  21.0    6  160.0  110  3.90  2.875  17.02   0   1     4   \n",
       "2         Datsun 710  22.8    4  108.0   93  3.85  2.320  18.61   1   1     4   \n",
       "3     Hornet 4 Drive  21.4    6  258.0  110  3.08  3.215  19.44   1   0     3   \n",
       "4  Hornet Sportabout  18.7    8  360.0  175  3.15  3.440  17.02   0   0     3   \n",
       "\n",
       "   carb  \n",
       "0     4  \n",
       "1     4  \n",
       "2     1  \n",
       "3     1  \n",
       "4     2  "
      ]
     },
     "execution_count": 3,
     "metadata": {},
     "output_type": "execute_result"
    }
   ],
   "source": [
    "df = pd.read_csv('.\\\\data\\\\mt_cars.csv')\n",
    "df.head()"
   ]
  },
  {
   "cell_type": "code",
   "execution_count": 4,
   "metadata": {},
   "outputs": [],
   "source": [
    "y = df['cyl'].values\n",
    "x = df[['mpg','hp']].values"
   ]
  },
  {
   "cell_type": "code",
   "execution_count": 5,
   "metadata": {},
   "outputs": [
    {
     "data": {
      "text/html": [
       "<style>#sk-container-id-1 {\n",
       "  /* Definition of color scheme common for light and dark mode */\n",
       "  --sklearn-color-text: black;\n",
       "  --sklearn-color-line: gray;\n",
       "  /* Definition of color scheme for unfitted estimators */\n",
       "  --sklearn-color-unfitted-level-0: #fff5e6;\n",
       "  --sklearn-color-unfitted-level-1: #f6e4d2;\n",
       "  --sklearn-color-unfitted-level-2: #ffe0b3;\n",
       "  --sklearn-color-unfitted-level-3: chocolate;\n",
       "  /* Definition of color scheme for fitted estimators */\n",
       "  --sklearn-color-fitted-level-0: #f0f8ff;\n",
       "  --sklearn-color-fitted-level-1: #d4ebff;\n",
       "  --sklearn-color-fitted-level-2: #b3dbfd;\n",
       "  --sklearn-color-fitted-level-3: cornflowerblue;\n",
       "\n",
       "  /* Specific color for light theme */\n",
       "  --sklearn-color-text-on-default-background: var(--sg-text-color, var(--theme-code-foreground, var(--jp-content-font-color1, black)));\n",
       "  --sklearn-color-background: var(--sg-background-color, var(--theme-background, var(--jp-layout-color0, white)));\n",
       "  --sklearn-color-border-box: var(--sg-text-color, var(--theme-code-foreground, var(--jp-content-font-color1, black)));\n",
       "  --sklearn-color-icon: #696969;\n",
       "\n",
       "  @media (prefers-color-scheme: dark) {\n",
       "    /* Redefinition of color scheme for dark theme */\n",
       "    --sklearn-color-text-on-default-background: var(--sg-text-color, var(--theme-code-foreground, var(--jp-content-font-color1, white)));\n",
       "    --sklearn-color-background: var(--sg-background-color, var(--theme-background, var(--jp-layout-color0, #111)));\n",
       "    --sklearn-color-border-box: var(--sg-text-color, var(--theme-code-foreground, var(--jp-content-font-color1, white)));\n",
       "    --sklearn-color-icon: #878787;\n",
       "  }\n",
       "}\n",
       "\n",
       "#sk-container-id-1 {\n",
       "  color: var(--sklearn-color-text);\n",
       "}\n",
       "\n",
       "#sk-container-id-1 pre {\n",
       "  padding: 0;\n",
       "}\n",
       "\n",
       "#sk-container-id-1 input.sk-hidden--visually {\n",
       "  border: 0;\n",
       "  clip: rect(1px 1px 1px 1px);\n",
       "  clip: rect(1px, 1px, 1px, 1px);\n",
       "  height: 1px;\n",
       "  margin: -1px;\n",
       "  overflow: hidden;\n",
       "  padding: 0;\n",
       "  position: absolute;\n",
       "  width: 1px;\n",
       "}\n",
       "\n",
       "#sk-container-id-1 div.sk-dashed-wrapped {\n",
       "  border: 1px dashed var(--sklearn-color-line);\n",
       "  margin: 0 0.4em 0.5em 0.4em;\n",
       "  box-sizing: border-box;\n",
       "  padding-bottom: 0.4em;\n",
       "  background-color: var(--sklearn-color-background);\n",
       "}\n",
       "\n",
       "#sk-container-id-1 div.sk-container {\n",
       "  /* jupyter's `normalize.less` sets `[hidden] { display: none; }`\n",
       "     but bootstrap.min.css set `[hidden] { display: none !important; }`\n",
       "     so we also need the `!important` here to be able to override the\n",
       "     default hidden behavior on the sphinx rendered scikit-learn.org.\n",
       "     See: https://github.com/scikit-learn/scikit-learn/issues/21755 */\n",
       "  display: inline-block !important;\n",
       "  position: relative;\n",
       "}\n",
       "\n",
       "#sk-container-id-1 div.sk-text-repr-fallback {\n",
       "  display: none;\n",
       "}\n",
       "\n",
       "div.sk-parallel-item,\n",
       "div.sk-serial,\n",
       "div.sk-item {\n",
       "  /* draw centered vertical line to link estimators */\n",
       "  background-image: linear-gradient(var(--sklearn-color-text-on-default-background), var(--sklearn-color-text-on-default-background));\n",
       "  background-size: 2px 100%;\n",
       "  background-repeat: no-repeat;\n",
       "  background-position: center center;\n",
       "}\n",
       "\n",
       "/* Parallel-specific style estimator block */\n",
       "\n",
       "#sk-container-id-1 div.sk-parallel-item::after {\n",
       "  content: \"\";\n",
       "  width: 100%;\n",
       "  border-bottom: 2px solid var(--sklearn-color-text-on-default-background);\n",
       "  flex-grow: 1;\n",
       "}\n",
       "\n",
       "#sk-container-id-1 div.sk-parallel {\n",
       "  display: flex;\n",
       "  align-items: stretch;\n",
       "  justify-content: center;\n",
       "  background-color: var(--sklearn-color-background);\n",
       "  position: relative;\n",
       "}\n",
       "\n",
       "#sk-container-id-1 div.sk-parallel-item {\n",
       "  display: flex;\n",
       "  flex-direction: column;\n",
       "}\n",
       "\n",
       "#sk-container-id-1 div.sk-parallel-item:first-child::after {\n",
       "  align-self: flex-end;\n",
       "  width: 50%;\n",
       "}\n",
       "\n",
       "#sk-container-id-1 div.sk-parallel-item:last-child::after {\n",
       "  align-self: flex-start;\n",
       "  width: 50%;\n",
       "}\n",
       "\n",
       "#sk-container-id-1 div.sk-parallel-item:only-child::after {\n",
       "  width: 0;\n",
       "}\n",
       "\n",
       "/* Serial-specific style estimator block */\n",
       "\n",
       "#sk-container-id-1 div.sk-serial {\n",
       "  display: flex;\n",
       "  flex-direction: column;\n",
       "  align-items: center;\n",
       "  background-color: var(--sklearn-color-background);\n",
       "  padding-right: 1em;\n",
       "  padding-left: 1em;\n",
       "}\n",
       "\n",
       "\n",
       "/* Toggleable style: style used for estimator/Pipeline/ColumnTransformer box that is\n",
       "clickable and can be expanded/collapsed.\n",
       "- Pipeline and ColumnTransformer use this feature and define the default style\n",
       "- Estimators will overwrite some part of the style using the `sk-estimator` class\n",
       "*/\n",
       "\n",
       "/* Pipeline and ColumnTransformer style (default) */\n",
       "\n",
       "#sk-container-id-1 div.sk-toggleable {\n",
       "  /* Default theme specific background. It is overwritten whether we have a\n",
       "  specific estimator or a Pipeline/ColumnTransformer */\n",
       "  background-color: var(--sklearn-color-background);\n",
       "}\n",
       "\n",
       "/* Toggleable label */\n",
       "#sk-container-id-1 label.sk-toggleable__label {\n",
       "  cursor: pointer;\n",
       "  display: block;\n",
       "  width: 100%;\n",
       "  margin-bottom: 0;\n",
       "  padding: 0.5em;\n",
       "  box-sizing: border-box;\n",
       "  text-align: center;\n",
       "}\n",
       "\n",
       "#sk-container-id-1 label.sk-toggleable__label-arrow:before {\n",
       "  /* Arrow on the left of the label */\n",
       "  content: \"▸\";\n",
       "  float: left;\n",
       "  margin-right: 0.25em;\n",
       "  color: var(--sklearn-color-icon);\n",
       "}\n",
       "\n",
       "#sk-container-id-1 label.sk-toggleable__label-arrow:hover:before {\n",
       "  color: var(--sklearn-color-text);\n",
       "}\n",
       "\n",
       "/* Toggleable content - dropdown */\n",
       "\n",
       "#sk-container-id-1 div.sk-toggleable__content {\n",
       "  max-height: 0;\n",
       "  max-width: 0;\n",
       "  overflow: hidden;\n",
       "  text-align: left;\n",
       "  /* unfitted */\n",
       "  background-color: var(--sklearn-color-unfitted-level-0);\n",
       "}\n",
       "\n",
       "#sk-container-id-1 div.sk-toggleable__content.fitted {\n",
       "  /* fitted */\n",
       "  background-color: var(--sklearn-color-fitted-level-0);\n",
       "}\n",
       "\n",
       "#sk-container-id-1 div.sk-toggleable__content pre {\n",
       "  margin: 0.2em;\n",
       "  border-radius: 0.25em;\n",
       "  color: var(--sklearn-color-text);\n",
       "  /* unfitted */\n",
       "  background-color: var(--sklearn-color-unfitted-level-0);\n",
       "}\n",
       "\n",
       "#sk-container-id-1 div.sk-toggleable__content.fitted pre {\n",
       "  /* unfitted */\n",
       "  background-color: var(--sklearn-color-fitted-level-0);\n",
       "}\n",
       "\n",
       "#sk-container-id-1 input.sk-toggleable__control:checked~div.sk-toggleable__content {\n",
       "  /* Expand drop-down */\n",
       "  max-height: 200px;\n",
       "  max-width: 100%;\n",
       "  overflow: auto;\n",
       "}\n",
       "\n",
       "#sk-container-id-1 input.sk-toggleable__control:checked~label.sk-toggleable__label-arrow:before {\n",
       "  content: \"▾\";\n",
       "}\n",
       "\n",
       "/* Pipeline/ColumnTransformer-specific style */\n",
       "\n",
       "#sk-container-id-1 div.sk-label input.sk-toggleable__control:checked~label.sk-toggleable__label {\n",
       "  color: var(--sklearn-color-text);\n",
       "  background-color: var(--sklearn-color-unfitted-level-2);\n",
       "}\n",
       "\n",
       "#sk-container-id-1 div.sk-label.fitted input.sk-toggleable__control:checked~label.sk-toggleable__label {\n",
       "  background-color: var(--sklearn-color-fitted-level-2);\n",
       "}\n",
       "\n",
       "/* Estimator-specific style */\n",
       "\n",
       "/* Colorize estimator box */\n",
       "#sk-container-id-1 div.sk-estimator input.sk-toggleable__control:checked~label.sk-toggleable__label {\n",
       "  /* unfitted */\n",
       "  background-color: var(--sklearn-color-unfitted-level-2);\n",
       "}\n",
       "\n",
       "#sk-container-id-1 div.sk-estimator.fitted input.sk-toggleable__control:checked~label.sk-toggleable__label {\n",
       "  /* fitted */\n",
       "  background-color: var(--sklearn-color-fitted-level-2);\n",
       "}\n",
       "\n",
       "#sk-container-id-1 div.sk-label label.sk-toggleable__label,\n",
       "#sk-container-id-1 div.sk-label label {\n",
       "  /* The background is the default theme color */\n",
       "  color: var(--sklearn-color-text-on-default-background);\n",
       "}\n",
       "\n",
       "/* On hover, darken the color of the background */\n",
       "#sk-container-id-1 div.sk-label:hover label.sk-toggleable__label {\n",
       "  color: var(--sklearn-color-text);\n",
       "  background-color: var(--sklearn-color-unfitted-level-2);\n",
       "}\n",
       "\n",
       "/* Label box, darken color on hover, fitted */\n",
       "#sk-container-id-1 div.sk-label.fitted:hover label.sk-toggleable__label.fitted {\n",
       "  color: var(--sklearn-color-text);\n",
       "  background-color: var(--sklearn-color-fitted-level-2);\n",
       "}\n",
       "\n",
       "/* Estimator label */\n",
       "\n",
       "#sk-container-id-1 div.sk-label label {\n",
       "  font-family: monospace;\n",
       "  font-weight: bold;\n",
       "  display: inline-block;\n",
       "  line-height: 1.2em;\n",
       "}\n",
       "\n",
       "#sk-container-id-1 div.sk-label-container {\n",
       "  text-align: center;\n",
       "}\n",
       "\n",
       "/* Estimator-specific */\n",
       "#sk-container-id-1 div.sk-estimator {\n",
       "  font-family: monospace;\n",
       "  border: 1px dotted var(--sklearn-color-border-box);\n",
       "  border-radius: 0.25em;\n",
       "  box-sizing: border-box;\n",
       "  margin-bottom: 0.5em;\n",
       "  /* unfitted */\n",
       "  background-color: var(--sklearn-color-unfitted-level-0);\n",
       "}\n",
       "\n",
       "#sk-container-id-1 div.sk-estimator.fitted {\n",
       "  /* fitted */\n",
       "  background-color: var(--sklearn-color-fitted-level-0);\n",
       "}\n",
       "\n",
       "/* on hover */\n",
       "#sk-container-id-1 div.sk-estimator:hover {\n",
       "  /* unfitted */\n",
       "  background-color: var(--sklearn-color-unfitted-level-2);\n",
       "}\n",
       "\n",
       "#sk-container-id-1 div.sk-estimator.fitted:hover {\n",
       "  /* fitted */\n",
       "  background-color: var(--sklearn-color-fitted-level-2);\n",
       "}\n",
       "\n",
       "/* Specification for estimator info (e.g. \"i\" and \"?\") */\n",
       "\n",
       "/* Common style for \"i\" and \"?\" */\n",
       "\n",
       ".sk-estimator-doc-link,\n",
       "a:link.sk-estimator-doc-link,\n",
       "a:visited.sk-estimator-doc-link {\n",
       "  float: right;\n",
       "  font-size: smaller;\n",
       "  line-height: 1em;\n",
       "  font-family: monospace;\n",
       "  background-color: var(--sklearn-color-background);\n",
       "  border-radius: 1em;\n",
       "  height: 1em;\n",
       "  width: 1em;\n",
       "  text-decoration: none !important;\n",
       "  margin-left: 1ex;\n",
       "  /* unfitted */\n",
       "  border: var(--sklearn-color-unfitted-level-1) 1pt solid;\n",
       "  color: var(--sklearn-color-unfitted-level-1);\n",
       "}\n",
       "\n",
       ".sk-estimator-doc-link.fitted,\n",
       "a:link.sk-estimator-doc-link.fitted,\n",
       "a:visited.sk-estimator-doc-link.fitted {\n",
       "  /* fitted */\n",
       "  border: var(--sklearn-color-fitted-level-1) 1pt solid;\n",
       "  color: var(--sklearn-color-fitted-level-1);\n",
       "}\n",
       "\n",
       "/* On hover */\n",
       "div.sk-estimator:hover .sk-estimator-doc-link:hover,\n",
       ".sk-estimator-doc-link:hover,\n",
       "div.sk-label-container:hover .sk-estimator-doc-link:hover,\n",
       ".sk-estimator-doc-link:hover {\n",
       "  /* unfitted */\n",
       "  background-color: var(--sklearn-color-unfitted-level-3);\n",
       "  color: var(--sklearn-color-background);\n",
       "  text-decoration: none;\n",
       "}\n",
       "\n",
       "div.sk-estimator.fitted:hover .sk-estimator-doc-link.fitted:hover,\n",
       ".sk-estimator-doc-link.fitted:hover,\n",
       "div.sk-label-container:hover .sk-estimator-doc-link.fitted:hover,\n",
       ".sk-estimator-doc-link.fitted:hover {\n",
       "  /* fitted */\n",
       "  background-color: var(--sklearn-color-fitted-level-3);\n",
       "  color: var(--sklearn-color-background);\n",
       "  text-decoration: none;\n",
       "}\n",
       "\n",
       "/* Span, style for the box shown on hovering the info icon */\n",
       ".sk-estimator-doc-link span {\n",
       "  display: none;\n",
       "  z-index: 9999;\n",
       "  position: relative;\n",
       "  font-weight: normal;\n",
       "  right: .2ex;\n",
       "  padding: .5ex;\n",
       "  margin: .5ex;\n",
       "  width: min-content;\n",
       "  min-width: 20ex;\n",
       "  max-width: 50ex;\n",
       "  color: var(--sklearn-color-text);\n",
       "  box-shadow: 2pt 2pt 4pt #999;\n",
       "  /* unfitted */\n",
       "  background: var(--sklearn-color-unfitted-level-0);\n",
       "  border: .5pt solid var(--sklearn-color-unfitted-level-3);\n",
       "}\n",
       "\n",
       ".sk-estimator-doc-link.fitted span {\n",
       "  /* fitted */\n",
       "  background: var(--sklearn-color-fitted-level-0);\n",
       "  border: var(--sklearn-color-fitted-level-3);\n",
       "}\n",
       "\n",
       ".sk-estimator-doc-link:hover span {\n",
       "  display: block;\n",
       "}\n",
       "\n",
       "/* \"?\"-specific style due to the `<a>` HTML tag */\n",
       "\n",
       "#sk-container-id-1 a.estimator_doc_link {\n",
       "  float: right;\n",
       "  font-size: 1rem;\n",
       "  line-height: 1em;\n",
       "  font-family: monospace;\n",
       "  background-color: var(--sklearn-color-background);\n",
       "  border-radius: 1rem;\n",
       "  height: 1rem;\n",
       "  width: 1rem;\n",
       "  text-decoration: none;\n",
       "  /* unfitted */\n",
       "  color: var(--sklearn-color-unfitted-level-1);\n",
       "  border: var(--sklearn-color-unfitted-level-1) 1pt solid;\n",
       "}\n",
       "\n",
       "#sk-container-id-1 a.estimator_doc_link.fitted {\n",
       "  /* fitted */\n",
       "  border: var(--sklearn-color-fitted-level-1) 1pt solid;\n",
       "  color: var(--sklearn-color-fitted-level-1);\n",
       "}\n",
       "\n",
       "/* On hover */\n",
       "#sk-container-id-1 a.estimator_doc_link:hover {\n",
       "  /* unfitted */\n",
       "  background-color: var(--sklearn-color-unfitted-level-3);\n",
       "  color: var(--sklearn-color-background);\n",
       "  text-decoration: none;\n",
       "}\n",
       "\n",
       "#sk-container-id-1 a.estimator_doc_link.fitted:hover {\n",
       "  /* fitted */\n",
       "  background-color: var(--sklearn-color-fitted-level-3);\n",
       "}\n",
       "</style><div id=\"sk-container-id-1\" class=\"sk-top-container\"><div class=\"sk-text-repr-fallback\"><pre>KNeighborsClassifier(n_neighbors=3)</pre><b>In a Jupyter environment, please rerun this cell to show the HTML representation or trust the notebook. <br />On GitHub, the HTML representation is unable to render, please try loading this page with nbviewer.org.</b></div><div class=\"sk-container\" hidden><div class=\"sk-item\"><div class=\"sk-estimator fitted sk-toggleable\"><input class=\"sk-toggleable__control sk-hidden--visually\" id=\"sk-estimator-id-1\" type=\"checkbox\" checked><label for=\"sk-estimator-id-1\" class=\"sk-toggleable__label fitted sk-toggleable__label-arrow fitted\">&nbsp;&nbsp;KNeighborsClassifier<a class=\"sk-estimator-doc-link fitted\" rel=\"noreferrer\" target=\"_blank\" href=\"https://scikit-learn.org/1.5/modules/generated/sklearn.neighbors.KNeighborsClassifier.html\">?<span>Documentation for KNeighborsClassifier</span></a><span class=\"sk-estimator-doc-link fitted\">i<span>Fitted</span></span></label><div class=\"sk-toggleable__content fitted\"><pre>KNeighborsClassifier(n_neighbors=3)</pre></div> </div></div></div></div>"
      ],
      "text/plain": [
       "KNeighborsClassifier(n_neighbors=3)"
      ]
     },
     "execution_count": 5,
     "metadata": {},
     "output_type": "execute_result"
    }
   ],
   "source": [
    "modelo = KNeighborsClassifier(n_neighbors=3)\n",
    "modelo.fit(x, y)"
   ]
  },
  {
   "cell_type": "code",
   "execution_count": 7,
   "metadata": {},
   "outputs": [
    {
     "data": {
      "text/plain": [
       "array([6, 6, 4, 6, 8, 6, 8, 4, 4, 6, 6, 8, 8, 8, 8, 8, 8, 4, 4, 4, 4, 8,\n",
       "       8, 8, 8, 4, 4, 4, 8, 8, 8, 6])"
      ]
     },
     "execution_count": 7,
     "metadata": {},
     "output_type": "execute_result"
    }
   ],
   "source": [
    "resultado = modelo.predict(x)\n",
    "resultado"
   ]
  },
  {
   "cell_type": "code",
   "execution_count": 9,
   "metadata": {},
   "outputs": [
    {
     "name": "stdout",
     "output_type": "stream",
     "text": [
      "Acuracia : 0.94\n",
      "Precision: 0.94\n",
      "Precision: 0.94\n",
      "F1-Score: 0.94\n"
     ]
    }
   ],
   "source": [
    "acuracia = accuracy_score(y, resultado) # a função accuracy_score compara y_teste e o resultado da predição (y_saida)\n",
    "print(f'Acuracia : {acuracia :.2f}')\n",
    "precision = precision_score(y, resultado, average='weighted')\n",
    "print(f'Precision: {precision:.2f}')\n",
    "recall = recall_score(y, resultado, average='weighted')\n",
    "print(f'Precision: {recall:.2f}')\n",
    "f1 = f1_score(y, resultado, average='weighted')\n",
    "print(f'F1-Score: {f1:.2f}')"
   ]
  },
  {
   "cell_type": "code",
   "execution_count": 10,
   "metadata": {},
   "outputs": [
    {
     "data": {
      "image/png": "[encoded data removed]",
      "text/plain": [
       "<Figure size 800x600 with 1 Axes>"
      ]
     },
     "metadata": {},
     "output_type": "display_data"
    }
   ],
   "source": [
    "matrisc = confusion_matrix(y, resultado)\n",
    "\n",
    "#  no_reducion = confusion_matrix(y_test, y_pred)\n",
    "plt.figure(figsize=(8, 6))\n",
    "sns.heatmap(matrisc, annot=True, fmt='d', cmap='magma', cbar=False, )\n",
    "plt.title('KNN- Matriz de Confusão ')\n",
    "plt.xlabel('Predicted labels')\n",
    "plt.ylabel('True labels')\n",
    "plt.show()"
   ]
  },
  {
   "cell_type": "code",
   "execution_count": null,
   "metadata": {},
   "outputs": [],
   "source": [
    "ne"
   ]
  },
  {
   "cell_type": "markdown",
   "metadata": {},
   "source": [
    "### K-means\n",
    "* Agrupamento ou Clusterização"
   ]
  },
  {
   "cell_type": "markdown",
   "metadata": {},
   "source": [
    "Primeiro, define-se o número de clusters. Em seguida, o algoritmo determina os centros de cada cluster. Após isso, calcula-se a distância de cada ponto até o centróide. Com todas as distâncias calculadas, é feita a média das distâncias para todos os grupos. O algoritmo continua a rodar até que os pontos não mudem mais de posição ou até atingir um critério de parada específico."
   ]
  },
  {
   "cell_type": "code",
   "execution_count": 38,
   "metadata": {},
   "outputs": [
    {
     "data": {
      "text/plain": [
       "array([0, 0, 0, 0, 0, 0, 0, 0, 0, 0, 0, 0, 0, 0, 0, 0, 0, 0, 0, 0, 0, 0,\n",
       "       0, 0, 0, 0, 0, 0, 0, 0, 0, 0, 0, 0, 0, 0, 0, 0, 0, 0, 0, 0, 0, 0,\n",
       "       0, 0, 0, 0, 0, 0, 1, 1, 1, 1, 1, 1, 1, 1, 1, 1, 1, 1, 1, 1, 1, 1,\n",
       "       1, 1, 1, 1, 1, 1, 1, 1, 1, 1, 1, 1, 1, 1, 1, 1, 1, 1, 1, 1, 1, 1,\n",
       "       1, 1, 1, 1, 1, 1, 1, 1, 1, 1, 1, 1, 2, 2, 2, 2, 2, 2, 2, 2, 2, 2,\n",
       "       2, 2, 2, 2, 2, 2, 2, 2, 2, 2, 2, 2, 2, 2, 2, 2, 2, 2, 2, 2, 2, 2,\n",
       "       2, 2, 2, 2, 2, 2, 2, 2, 2, 2, 2, 2, 2, 2, 2, 2, 2, 2])"
      ]
     },
     "execution_count": 38,
     "metadata": {},
     "output_type": "execute_result"
    }
   ],
   "source": [
    "# df = pd.read_csv('.\\\\data\\\\iris.csv')\n",
    "df = datasets.load_iris()\n",
    "df.target"
   ]
  },
  {
   "cell_type": "code",
   "execution_count": 29,
   "metadata": {},
   "outputs": [],
   "source": [
    "def plot_clusters(data, labels, title):\n",
    "  colors = ['red','green','purple','black']\n",
    "  plt.figure(figsize=(8,4))\n",
    "  for i,c,l in zip(range(-1,3), colors, ['Noise','Setosa','Versicolor','Virginica']):\n",
    "    if i == -1:\n",
    "      plt.scatter(data[labels == i, 0], data[labels == i, 3], c=colors[i], label = l, alpha=0.5, s=50, marker='x')\n",
    "    else:\n",
    "      plt.scatter(data[labels == i, 0], data[labels == i, 3], c=colors[i], label = l, alpha=0.5, s=50)\n",
    "  plt.legend()\n",
    "  plt.title(title)\n",
    "  plt.xlabel('Comprimento Sépala')\n",
    "  plt.ylabel(\"Largura da Pétala\")\n",
    "  plt.show()"
   ]
  },
  {
   "cell_type": "code",
   "execution_count": 30,
   "metadata": {},
   "outputs": [
    {
     "name": "stdout",
     "output_type": "stream",
     "text": [
      "[1 1 1 1 1 1 1 1 1 1 1 1 1 1 1 1 1 1 1 1 1 1 1 1 1 1 1 1 1 1 1 1 1 1 1 1 1\n",
      " 1 1 1 1 1 1 1 1 1 1 1 1 1 0 2 0 2 2 2 2 2 2 2 2 2 2 2 2 2 2 2 2 2 2 2 2 2\n",
      " 2 2 2 0 2 2 2 2 2 2 2 2 2 2 2 2 2 2 2 2 2 2 2 2 2 2 0 2 0 0 0 0 2 0 0 0 0\n",
      " 0 0 2 2 0 0 0 0 2 0 2 0 2 0 0 2 2 0 0 0 0 0 2 0 0 0 0 2 0 0 0 2 0 0 0 2 0\n",
      " 0 2]\n",
      "[[ 0 50  0]\n",
      " [ 3  0 47]\n",
      " [36  0 14]]\n"
     ]
    }
   ],
   "source": [
    "kmeans = KMeans(n_clusters=3,n_init='auto') # parametro mais importante é o n_clusters\n",
    "kmeans.fit(df.data)\n",
    "print(kmeans.labels_)\n",
    "resultados = confusion_matrix(df.target, kmeans.labels_)\n",
    "print(resultados)\n",
    "\n",
    "# plot_clusters(df.data, kmeans.labels_, 'Cluster KMeans')"
   ]
  },
  {
   "cell_type": "code",
   "execution_count": 31,
   "metadata": {},
   "outputs": [
    {
     "data": {
      "image/png": "[encoded data removed]",
      "text/plain": [
       "<Figure size 800x400 with 1 Axes>"
      ]
     },
     "metadata": {},
     "output_type": "display_data"
    }
   ],
   "source": [
    "plot_clusters(df.data, kmeans.labels_ ,'Cluster Kmeans')"
   ]
  },
  {
   "cell_type": "code",
   "execution_count": 25,
   "metadata": {},
   "outputs": [
    {
     "name": "stdout",
     "output_type": "stream",
     "text": [
      "[ 0  0  0  0  0  0  0  0  0  0  0  0  0  0  0  0  0  0  0  0  0  0  0  0\n",
      "  0  0  0  0  0  0  0  0  0  0  0  0  0  0  0  0  0 -1  0  0  0  0  0  0\n",
      "  0  0  1  1  1  1  1  1  1 -1  1  1 -1  1  1  1  1  1  1  1 -1  1  1  1\n",
      "  1  1  1  1  1  1  1  1  1  1  1  1  1  1  1 -1  1  1  1  1  1 -1  1  1\n",
      "  1  1 -1  1  1  1  1  1  1 -1 -1  1 -1 -1  1  1  1  1  1  1  1 -1 -1  1\n",
      "  1  1 -1  1  1  1  1  1  1  1  1 -1  1  1 -1 -1  1  1  1  1  1  1  1  1\n",
      "  1  1  1  1  1  1]\n"
     ]
    }
   ],
   "source": [
    "# DBSCAN é um outro algoritmo de clusterização, ele difere do KMeans por não precisar definir o número de clusters, porem ele pode gerar ruindo se os dados não forem bem tratados\n",
    "dbscan = DBSCAN(eps=0.5, min_samples=5) # eps = raio de vizinhança, min_samples = número mínimo de pontos para formar um cluster\n",
    "dbscan_resultado = dbscan.fit_predict(df.data)\n",
    "print(dbscan_resultado)"
   ]
  },
  {
   "cell_type": "code",
   "execution_count": 32,
   "metadata": {},
   "outputs": [
    {
     "data": {
      "image/png": "[encoded data removed]",
      "text/plain": [
       "<Figure size 800x400 with 1 Axes>"
      ]
     },
     "metadata": {},
     "output_type": "display_data"
    }
   ],
   "source": [
    "plot_clusters(df.data, dbscan_resultado, 'Cluster DBSCAN')"
   ]
  },
  {
   "cell_type": "code",
   "execution_count": 39,
   "metadata": {},
   "outputs": [
    {
     "name": "stdout",
     "output_type": "stream",
     "text": [
      "[1 1 1 1 1 1 1 1 1 1 1 1 1 1 1 1 1 1 1 1 1 1 1 1 1 1 1 1 1 1 1 1 1 1 1 1 1\n",
      " 1 1 1 1 1 1 1 1 1 1 1 1 1 0 0 0 0 0 0 0 0 0 0 0 0 0 0 0 0 0 0 0 0 0 0 0 0\n",
      " 0 0 0 2 0 0 0 0 0 0 0 0 0 0 0 0 0 0 0 0 0 0 0 0 0 0 2 0 2 2 2 2 0 2 2 2 2\n",
      " 2 2 0 0 2 2 2 2 0 2 0 2 0 2 2 0 0 2 2 2 2 2 0 0 2 2 2 0 2 2 2 0 2 2 2 0 2\n",
      " 2 0]\n",
      "[[ 0 50  0]\n",
      " [49  0  1]\n",
      " [15  0 35]]\n"
     ]
    }
   ],
   "source": [
    "# clusterização aglomerativa (Hierárquica)\n",
    "aglo = AgglomerativeClustering(n_clusters=3)\n",
    "aglo_resultado = aglo.fit_predict(df.data)\n",
    "print(aglo_resultado)\n",
    "aglo_resultado = confusion_matrix(df.target, aglo_resultado)\n",
    "print(aglo_resultado)\n",
    "\n",
    "# agglo = AgglomerativeClustering(n_clusters=3)\n",
    "# agglo_labels = agglo.fit_predict(iris.data)\n",
    "# print(agglo_labels)\n",
    "# resultados = confusion_matrix(iris.target,agglo_labels)\n",
    "# print(resultados)\n",
    "# plot_clusters(iris.data,agglo_labels,'Cluster Hierárquico' )"
   ]
  },
  {
   "cell_type": "code",
   "execution_count": null,
   "metadata": {},
   "outputs": [],
   "source": [
    "plot_clusters(df.data, aglo_resultado, 'Cluster Aglomerativo')"
   ]
  },
  {
   "cell_type": "code",
   "execution_count": 35,
   "metadata": {},
   "outputs": [
    {
     "data": {
      "image/png": "[encoded data removed]",
      "text/plain": [
       "<Figure size 1200x600 with 1 Axes>"
      ]
     },
     "metadata": {},
     "output_type": "display_data"
    }
   ],
   "source": [
    "plt.figure(figsize=(12,6))\n",
    "plt.title('Cluster Hierárquico - Dendrograma')\n",
    "plt.xlabel('Índices')\n",
    "plt.ylabel('Distância')\n",
    "linkage_matrix = linkage(df.data, method='ward')\n",
    "dendrogram(linkage_matrix, truncate_mode='lastp', p=15)\n",
    "plt.axhline(y=10, c='gray', lw=1, linestyle='dashed')\n",
    "plt.show()"
   ]
  },
  {
   "cell_type": "markdown",
   "metadata": {},
   "source": [
    "## Seção 4\n"
   ]
  },
  {
   "cell_type": "code",
   "execution_count": 41,
   "metadata": {},
   "outputs": [],
   "source": [
    "from sklearn.preprocessing import LabelEncoder, StandardScaler"
   ]
  },
  {
   "cell_type": "markdown",
   "metadata": {},
   "source": [
    "### Engenharia de atributos"
   ]
  },
  {
   "cell_type": "code",
   "execution_count": 42,
   "metadata": {},
   "outputs": [
    {
     "data": {
      "text/html": [
       "<div>\n",
       "<style scoped>\n",
       "    .dataframe tbody tr th:only-of-type {\n",
       "        vertical-align: middle;\n",
       "    }\n",
       "\n",
       "    .dataframe tbody tr th {\n",
       "        vertical-align: top;\n",
       "    }\n",
       "\n",
       "    .dataframe thead th {\n",
       "        text-align: right;\n",
       "    }\n",
       "</style>\n",
       "<table border=\"1\" class=\"dataframe\">\n",
       "  <thead>\n",
       "    <tr style=\"text-align: right;\">\n",
       "      <th></th>\n",
       "      <th>SALDO_ATUAL</th>\n",
       "      <th>RESIDENCIADESDE</th>\n",
       "      <th>IDADE</th>\n",
       "      <th>OUTROSPLANOSPGTO</th>\n",
       "      <th>DATA</th>\n",
       "      <th>ESTADOCIVIL</th>\n",
       "      <th>PROPOSITO</th>\n",
       "      <th>CLASSE</th>\n",
       "    </tr>\n",
       "  </thead>\n",
       "  <tbody>\n",
       "    <tr>\n",
       "      <th>0</th>\n",
       "      <td>1169.0</td>\n",
       "      <td>4</td>\n",
       "      <td>67</td>\n",
       "      <td>nenhum</td>\n",
       "      <td>01/01/2019</td>\n",
       "      <td>masculino solteiro</td>\n",
       "      <td>radio/tv</td>\n",
       "      <td>bom</td>\n",
       "    </tr>\n",
       "    <tr>\n",
       "      <th>1</th>\n",
       "      <td>5951.0</td>\n",
       "      <td>2</td>\n",
       "      <td>22</td>\n",
       "      <td>nenhum</td>\n",
       "      <td>01/01/2020</td>\n",
       "      <td>fem div/cas</td>\n",
       "      <td>radio/tv</td>\n",
       "      <td>ruim</td>\n",
       "    </tr>\n",
       "    <tr>\n",
       "      <th>2</th>\n",
       "      <td>2096.0</td>\n",
       "      <td>3</td>\n",
       "      <td>49</td>\n",
       "      <td>nenhum</td>\n",
       "      <td>02/01/2020</td>\n",
       "      <td>masculino solteiro</td>\n",
       "      <td>educação</td>\n",
       "      <td>bom</td>\n",
       "    </tr>\n",
       "    <tr>\n",
       "      <th>3</th>\n",
       "      <td>7882.0</td>\n",
       "      <td>4</td>\n",
       "      <td>45</td>\n",
       "      <td>nenhum</td>\n",
       "      <td>02/01/2019</td>\n",
       "      <td>masculino solteiro</td>\n",
       "      <td>mobilia/equipamento</td>\n",
       "      <td>bom</td>\n",
       "    </tr>\n",
       "    <tr>\n",
       "      <th>4</th>\n",
       "      <td>4870.0</td>\n",
       "      <td>4</td>\n",
       "      <td>53</td>\n",
       "      <td>nenhum</td>\n",
       "      <td>03/01/2018</td>\n",
       "      <td>masculino solteiro</td>\n",
       "      <td>carro novo</td>\n",
       "      <td>ruim</td>\n",
       "    </tr>\n",
       "  </tbody>\n",
       "</table>\n",
       "</div>"
      ],
      "text/plain": [
       "   SALDO_ATUAL  RESIDENCIADESDE  IDADE OUTROSPLANOSPGTO        DATA  \\\n",
       "0       1169.0                4     67           nenhum  01/01/2019   \n",
       "1       5951.0                2     22           nenhum  01/01/2020   \n",
       "2       2096.0                3     49           nenhum  02/01/2020   \n",
       "3       7882.0                4     45           nenhum  02/01/2019   \n",
       "4       4870.0                4     53           nenhum  03/01/2018   \n",
       "\n",
       "          ESTADOCIVIL            PROPOSITO CLASSE  \n",
       "0  masculino solteiro             radio/tv    bom  \n",
       "1         fem div/cas             radio/tv   ruim  \n",
       "2  masculino solteiro             educação    bom  \n",
       "3  masculino solteiro  mobilia/equipamento    bom  \n",
       "4  masculino solteiro           carro novo   ruim  "
      ]
     },
     "execution_count": 42,
     "metadata": {},
     "output_type": "execute_result"
    }
   ],
   "source": [
    "#\n",
    "df = pd.read_csv('.\\\\data\\\\credit_simple.csv', sep=';')\n",
    "df.head()"
   ]
  },
  {
   "cell_type": "code",
   "execution_count": 43,
   "metadata": {},
   "outputs": [],
   "source": [
    "y = df['CLASSE']\n",
    "x = df.drop(columns=['CLASSE'], axis=1)"
   ]
  },
  {
   "cell_type": "markdown",
   "metadata": {},
   "source": [
    "* Preenchendo valores nulos"
   ]
  },
  {
   "cell_type": "code",
   "execution_count": 44,
   "metadata": {},
   "outputs": [
    {
     "data": {
      "text/plain": [
       "SALDO_ATUAL         7\n",
       "RESIDENCIADESDE     0\n",
       "IDADE               0\n",
       "OUTROSPLANOSPGTO    0\n",
       "DATA                0\n",
       "ESTADOCIVIL         8\n",
       "PROPOSITO           0\n",
       "dtype: int64"
      ]
     },
     "execution_count": 44,
     "metadata": {},
     "output_type": "execute_result"
    }
   ],
   "source": [
    "x.isnull().sum()"
   ]
  },
  {
   "cell_type": "code",
   "execution_count": 46,
   "metadata": {},
   "outputs": [
    {
     "data": {
      "text/plain": [
       "SALDO_ATUAL         0\n",
       "RESIDENCIADESDE     0\n",
       "IDADE               0\n",
       "OUTROSPLANOSPGTO    0\n",
       "DATA                0\n",
       "ESTADOCIVIL         8\n",
       "PROPOSITO           0\n",
       "dtype: int64"
      ]
     },
     "execution_count": 46,
     "metadata": {},
     "output_type": "execute_result"
    }
   ],
   "source": [
    "# Subistitui os valores NAN da coluna SALDO_ATUAL pela média\n",
    "mediana = x['SALDO_ATUAL'].median()\n",
    "x['SALDO_ATUAL'] = x['SALDO_ATUAL'].fillna(mediana)\n",
    "x.isnull().sum()"
   ]
  },
  {
   "cell_type": "code",
   "execution_count": 51,
   "metadata": {},
   "outputs": [
    {
     "data": {
      "text/plain": [
       "ESTADOCIVIL\n",
       "fem div/cas               308\n",
       "masculino casado/viuvo     92\n",
       "masculino div/sep          50\n",
       "masculino solteiro        542\n",
       "dtype: int64"
      ]
     },
     "execution_count": 51,
     "metadata": {},
     "output_type": "execute_result"
    }
   ],
   "source": [
    "# subistitui os valores NAN da coluna ESTADOCIVIL pela moda\n",
    "# MODA: valor que mais se repete.\n",
    "moda = x.groupby(['ESTADOCIVIL']).size()\n",
    "moda"
   ]
  },
  {
   "cell_type": "code",
   "execution_count": 52,
   "metadata": {},
   "outputs": [],
   "source": [
    "x['ESTADOCIVIL'] = x['ESTADOCIVIL'].fillna('masculino solteiro')"
   ]
  },
  {
   "cell_type": "markdown",
   "metadata": {},
   "source": [
    "* Outliers"
   ]
  },
  {
   "cell_type": "code",
   "execution_count": 54,
   "metadata": {},
   "outputs": [
    {
     "data": {
      "text/plain": [
       "np.float64(685936688.9820067)"
      ]
     },
     "execution_count": 54,
     "metadata": {},
     "output_type": "execute_result"
    }
   ],
   "source": [
    "desvio = x['SALDO_ATUAL'].std()\n",
    "print(desvio)"
   ]
  },
  {
   "cell_type": "code",
   "execution_count": 57,
   "metadata": {},
   "outputs": [
    {
     "data": {
      "text/html": [
       "<div>\n",
       "<style scoped>\n",
       "    .dataframe tbody tr th:only-of-type {\n",
       "        vertical-align: middle;\n",
       "    }\n",
       "\n",
       "    .dataframe tbody tr th {\n",
       "        vertical-align: top;\n",
       "    }\n",
       "\n",
       "    .dataframe thead th {\n",
       "        text-align: right;\n",
       "    }\n",
       "</style>\n",
       "<table border=\"1\" class=\"dataframe\">\n",
       "  <thead>\n",
       "    <tr style=\"text-align: right;\">\n",
       "      <th></th>\n",
       "      <th>SALDO_ATUAL</th>\n",
       "      <th>RESIDENCIADESDE</th>\n",
       "      <th>IDADE</th>\n",
       "      <th>OUTROSPLANOSPGTO</th>\n",
       "      <th>DATA</th>\n",
       "      <th>ESTADOCIVIL</th>\n",
       "      <th>PROPOSITO</th>\n",
       "    </tr>\n",
       "  </thead>\n",
       "  <tbody>\n",
       "  </tbody>\n",
       "</table>\n",
       "</div>"
      ],
      "text/plain": [
       "Empty DataFrame\n",
       "Columns: [SALDO_ATUAL, RESIDENCIADESDE, IDADE, OUTROSPLANOSPGTO, DATA, ESTADOCIVIL, PROPOSITO]\n",
       "Index: []"
      ]
     },
     "execution_count": 57,
     "metadata": {},
     "output_type": "execute_result"
    }
   ],
   "source": [
    "# print(mediana)\n",
    "# mediana = x['SALDO_ATUAL'].median()\n",
    "# print(mediana)\n",
    "x.loc[x['SALDO_ATUAL'] >= 2*desvio, 'SALDO_ATUAL'] = mediana\n",
    "x.loc[x['SALDO_ATUAL'] >= 2*desvio]"
   ]
  },
  {
   "cell_type": "markdown",
   "metadata": {},
   "source": [
    "* 1 - **SELEÇÃO DE ATRIBUTOS**\n"
   ]
  },
  {
   "cell_type": "code",
   "execution_count": 77,
   "metadata": {},
   "outputs": [],
   "source": [
    "from sklearn.feature_selection import SelectKBest, chi2"
   ]
  },
  {
   "cell_type": "code",
   "execution_count": 78,
   "metadata": {},
   "outputs": [
    {
     "data": {
      "text/plain": [
       "(3279, 1559)"
      ]
     },
     "execution_count": 78,
     "metadata": {},
     "output_type": "execute_result"
    }
   ],
   "source": [
    "df = pd.read_csv('.\\\\data\\\\ad.data',header=None)\n",
    "df.head()\n",
    "df.shape"
   ]
  },
  {
   "cell_type": "code",
   "execution_count": 79,
   "metadata": {},
   "outputs": [],
   "source": [
    "x = df.iloc[:,0:-1].values\n",
    "y = df.iloc[:,-1].values"
   ]
  },
  {
   "cell_type": "code",
   "execution_count": 80,
   "metadata": {},
   "outputs": [
    {
     "data": {
      "text/plain": [
       "array([[125.    , 125.    ,   1.    , ...,   0.    ,   0.    ,   0.    ],\n",
       "       [ 57.    , 468.    ,   8.2105, ...,   0.    ,   0.    ,   0.    ],\n",
       "       [ 33.    , 230.    ,   6.9696, ...,   0.    ,   0.    ,   0.    ],\n",
       "       ...,\n",
       "       [ 23.    , 120.    ,   5.2173, ...,   0.    ,   0.    ,   0.    ],\n",
       "       [  0.    ,   0.    ,   0.    , ...,   0.    ,   0.    ,   0.    ],\n",
       "       [ 40.    ,  40.    ,   1.    , ...,   0.    ,   0.    ,   0.    ]])"
      ]
     },
     "execution_count": 80,
     "metadata": {},
     "output_type": "execute_result"
    }
   ],
   "source": [
    "x"
   ]
  },
  {
   "cell_type": "code",
   "execution_count": 81,
   "metadata": {},
   "outputs": [
    {
     "data": {
      "text/plain": [
       "array(['ad.', 'ad.', 'ad.', ..., 'nonad.', 'nonad.', 'nonad.'],\n",
       "      dtype=object)"
      ]
     },
     "execution_count": 81,
     "metadata": {},
     "output_type": "execute_result"
    }
   ],
   "source": [
    "y"
   ]
  },
  {
   "cell_type": "markdown",
   "metadata": {},
   "source": [
    "1.1 - **SELEÇÃO COM TODO O CONJUNTO DE ATRIBUTOS**"
   ]
  },
  {
   "cell_type": "code",
   "execution_count": 82,
   "metadata": {},
   "outputs": [],
   "source": [
    "x_treino, x_teste, y_treino,y_teste = train_test_split(x,y ,test_size=0.3, random_state=0)"
   ]
  },
  {
   "cell_type": "code",
   "execution_count": 83,
   "metadata": {},
   "outputs": [],
   "source": [
    "modelo = GaussianNB()\n",
    "modelo.fit(x_treino, y_treino)\n",
    "resultado = modelo.predict(x_teste)"
   ]
  },
  {
   "cell_type": "code",
   "execution_count": 84,
   "metadata": {},
   "outputs": [
    {
     "name": "stdout",
     "output_type": "stream",
     "text": [
      "Acuracia : 0.78 \n",
      "Precision: 0.90 \n",
      "Recall: 0.78 \n",
      "F1-Score: 0.81\n"
     ]
    }
   ],
   "source": [
    "# Avalia o modelo\n",
    "acuracia = accuracy_score(y_teste, resultado) # a função accuracy_score compara y_teste e o resultado da predição (y_saida) \n",
    "precision = precision_score(y_teste, resultado, average='weighted')\n",
    "recall = recall_score(y_teste, resultado, average='weighted')\n",
    "f1 = f1_score(y_teste, resultado, average='weighted')\n",
    "print(f'Acuracia : {acuracia :.2f} \\nPrecision: {precision:.2f} \\nRecall: {recall :.2f} \\nF1-Score: {f1 :.2f}' )"
   ]
  },
  {
   "cell_type": "markdown",
   "metadata": {},
   "source": [
    "1.2 - **SELEÇÃO COM UM SUBCONJUNTO O CONJUNTO DE ATRIBUTOS**"
   ]
  },
  {
   "cell_type": "code",
   "execution_count": 85,
   "metadata": {},
   "outputs": [],
   "source": [
    "# faz a seleção de features (colunas) mais importantes com base no teste qui-quadrado\n",
    "selecao = SelectKBest(chi2, k=7) # k = número de features que deseja manter\n",
    "x_novo = selecao.fit_transform(x,y)"
   ]
  },
  {
   "cell_type": "code",
   "execution_count": 74,
   "metadata": {},
   "outputs": [
    {
     "data": {
      "text/plain": [
       "(3279, 7)"
      ]
     },
     "execution_count": 74,
     "metadata": {},
     "output_type": "execute_result"
    }
   ],
   "source": [
    "x_novo.shape\n"
   ]
  },
  {
   "cell_type": "code",
   "execution_count": 86,
   "metadata": {},
   "outputs": [],
   "source": [
    "x_treino, x_teste, y_treino,y_teste = train_test_split(x_novo,y ,test_size=0.3, random_state=0)"
   ]
  },
  {
   "cell_type": "code",
   "execution_count": 87,
   "metadata": {},
   "outputs": [],
   "source": [
    "modelo = GaussianNB()\n",
    "modelo.fit(x_treino, y_treino)\n",
    "resultado = modelo.predict(x_teste)"
   ]
  },
  {
   "cell_type": "code",
   "execution_count": 88,
   "metadata": {},
   "outputs": [
    {
     "name": "stdout",
     "output_type": "stream",
     "text": [
      "Acuracia : 0.95 \n",
      "Precision: 0.94 \n",
      "Recall: 0.95 \n",
      "F1-Score: 0.94\n"
     ]
    }
   ],
   "source": [
    "# Avalia o modelo\n",
    "acuracia = accuracy_score(y_teste, resultado) # a função accuracy_score compara y_teste e o resultado da predição (y_saida) \n",
    "precision = precision_score(y_teste, resultado, average='weighted')\n",
    "recall = recall_score(y_teste, resultado, average='weighted')\n",
    "f1 = f1_score(y_teste, resultado, average='weighted')\n",
    "print(f'Acuracia : {acuracia :.2f} \\nPrecision: {precision:.2f} \\nRecall: {recall :.2f} \\nF1-Score: {f1 :.2f}' )"
   ]
  },
  {
   "cell_type": "markdown",
   "metadata": {},
   "source": [
    "Houve melhora siginificativa no resultado apos seleção dos atributos.\n",
    "\n",
    "**ANTES** -  (Acuracia : 0.78 - Precision: 0.90 - Recall: 0.78 -F1-Score: 0.81)\n",
    "\n",
    "**DEPOIS** - (Acuracia : 0.95 - Precision: 0.94 -Recall: 0.95 - F1-Score: 0.94)"
   ]
  },
  {
   "cell_type": "markdown",
   "metadata": {},
   "source": [
    "### Técnicas de Agruamento"
   ]
  },
  {
   "cell_type": "code",
   "execution_count": 110,
   "metadata": {},
   "outputs": [],
   "source": [
    "from sklearn.preprocessing import scale\n",
    "from hopkins import *\n",
    "from metric import *\n",
    "# from visual_assessment_of_tendency import *\n",
    "import warnings\n",
    "warnings.filterwarnings('ignore', category=FutureWarning)\n",
    "from sklearn.cluster import KMeans"
   ]
  },
  {
   "cell_type": "code",
   "execution_count": 94,
   "metadata": {},
   "outputs": [],
   "source": [
    "df = datasets.load_iris()\n",
    "clust_1 = scale(df.data)\n",
    "clust_2 = scale(np.random.rand(150,4))"
   ]
  },
  {
   "cell_type": "code",
   "execution_count": 95,
   "metadata": {},
   "outputs": [
    {
     "data": {
      "text/plain": [
       "array([[-4.67419302e-01,  1.17486349e+00,  1.24824385e+00,\n",
       "        -1.66906274e+00],\n",
       "       [-1.11310542e+00,  5.97455850e-01,  1.54382536e+00,\n",
       "        -3.35256964e-01],\n",
       "       [-1.02023478e-02,  1.16023814e+00, -2.57710168e-01,\n",
       "        -2.75335413e-01],\n",
       "       [ 1.59157562e+00, -1.43351698e+00,  1.43733508e+00,\n",
       "         1.41789232e+00],\n",
       "       [ 8.24824367e-01, -7.78170223e-01, -1.59864244e+00,\n",
       "        -9.53035121e-01],\n",
       "       [ 9.74099413e-01, -6.52042330e-01, -5.57834140e-02,\n",
       "         5.26859944e-01],\n",
       "       [-1.52137263e+00,  4.68819392e-01, -4.08390901e-02,\n",
       "         6.82309833e-01],\n",
       "       [ 1.15739875e+00,  2.15369887e-01,  6.86867284e-01,\n",
       "        -5.78868763e-01],\n",
       "       [-1.73594423e+00, -5.27544801e-01,  5.61797472e-01,\n",
       "        -1.53824388e+00],\n",
       "       [ 7.75074370e-01, -1.02567449e+00,  9.96389170e-01,\n",
       "        -4.42651885e-01],\n",
       "       [ 1.05700474e+00, -1.27777870e+00,  1.51146638e+00,\n",
       "         1.51756485e+00],\n",
       "       [ 1.07936592e+00, -1.03547304e+00,  7.29368315e-01,\n",
       "         1.00422484e+00],\n",
       "       [ 4.46212166e-01,  2.81958399e-01, -1.37205231e+00,\n",
       "        -2.80463702e-01],\n",
       "       [-8.14216453e-02, -2.40507387e-01, -1.42186087e+00,\n",
       "         9.57881927e-01],\n",
       "       [ 6.71331549e-01,  9.52581868e-01, -1.41469806e+00,\n",
       "         1.08133782e+00],\n",
       "       [ 1.49117772e+00, -1.09738352e+00,  4.33014562e-01,\n",
       "         1.52652919e+00],\n",
       "       [ 1.09342060e+00, -1.16562678e+00,  1.45428130e+00,\n",
       "         8.35437146e-01],\n",
       "       [-1.48093564e+00, -1.55491818e+00, -1.37701420e+00,\n",
       "        -8.97921441e-01],\n",
       "       [-9.74996640e-01,  9.83248238e-01,  1.56942276e+00,\n",
       "         1.27731346e+00],\n",
       "       [ 1.18808872e+00,  9.43994765e-01,  1.14495542e+00,\n",
       "        -1.69985652e+00],\n",
       "       [ 4.62796671e-01, -8.76603463e-01,  1.24485221e+00,\n",
       "         5.03615638e-01],\n",
       "       [ 1.72396936e-01,  3.07451980e-01, -8.45988972e-01,\n",
       "        -1.58709042e+00],\n",
       "       [-1.47893242e-01, -6.64143560e-01, -1.49401175e-01,\n",
       "         1.25512158e+00],\n",
       "       [ 1.53034041e+00,  9.95844010e-01,  1.04130476e+00,\n",
       "        -4.49047072e-01],\n",
       "       [-6.77895874e-01,  1.84279193e+00, -2.22718629e-01,\n",
       "         7.51417648e-01],\n",
       "       [ 7.80342134e-01,  1.77129983e+00, -7.80509000e-01,\n",
       "        -2.94819994e-01],\n",
       "       [-1.62566265e+00,  1.47422888e+00,  4.33759676e-01,\n",
       "         1.33473185e-01],\n",
       "       [ 9.73915901e-01, -1.30570186e+00, -1.53965337e+00,\n",
       "         1.01689894e+00],\n",
       "       [-7.22158629e-01,  1.12724574e+00, -2.91705775e-01,\n",
       "        -1.46764088e+00],\n",
       "       [ 2.97260777e-01,  7.75284300e-01, -2.99942235e-01,\n",
       "         1.68920981e+00],\n",
       "       [ 1.19278616e+00, -7.56755683e-01,  1.60375691e+00,\n",
       "         1.35967651e+00],\n",
       "       [-1.47438932e+00,  1.63349696e+00, -1.12138978e+00,\n",
       "         3.61642870e-01],\n",
       "       [-3.83149418e-01, -1.37274218e+00, -3.65336667e-01,\n",
       "        -1.18060070e+00],\n",
       "       [-9.14166606e-01,  9.51684220e-02,  4.65902204e-01,\n",
       "        -1.30407253e+00],\n",
       "       [ 1.20024876e+00,  1.37599269e+00,  7.48627312e-01,\n",
       "         2.43516877e-01],\n",
       "       [-1.41510707e+00,  4.71897770e-01, -5.75548028e-01,\n",
       "         1.45578974e+00],\n",
       "       [-7.82793589e-01, -8.73754202e-01, -1.70273002e+00,\n",
       "         1.52271460e+00],\n",
       "       [ 4.41771471e-01,  9.67407689e-01, -2.21075566e-01,\n",
       "         8.72979644e-01],\n",
       "       [-4.53996484e-01, -1.21926145e+00, -1.69013301e+00,\n",
       "         1.42908594e+00],\n",
       "       [-1.35532105e+00, -1.30751849e+00,  2.79051468e-01,\n",
       "        -1.60442488e+00],\n",
       "       [-1.54959214e-01, -2.08211304e-01,  1.57789906e+00,\n",
       "        -5.68906388e-01],\n",
       "       [ 5.12633191e-01, -3.93473351e-01, -1.48830034e+00,\n",
       "         3.00604679e-01],\n",
       "       [ 8.60753021e-01, -1.05513646e+00,  1.30152953e+00,\n",
       "         8.22465676e-01],\n",
       "       [ 5.05849434e-01, -1.39998862e+00,  1.20818156e+00,\n",
       "         1.36058803e+00],\n",
       "       [-1.08405956e-02,  8.76230123e-01, -9.88646232e-02,\n",
       "         1.41075318e+00],\n",
       "       [ 8.70559575e-01,  9.43843673e-01, -3.52456538e-01,\n",
       "         5.06306797e-01],\n",
       "       [-5.73602481e-01, -1.02418350e+00, -1.46868158e+00,\n",
       "        -5.30672106e-01],\n",
       "       [-1.66223775e+00, -7.25313072e-02,  1.61234024e+00,\n",
       "         7.86525954e-01],\n",
       "       [-8.79020840e-01,  1.05231633e+00,  9.03551003e-01,\n",
       "        -1.34122429e+00],\n",
       "       [-1.22569888e+00, -1.08583427e+00, -1.39184076e+00,\n",
       "         1.25557247e+00],\n",
       "       [ 7.77188888e-01,  1.16990710e-01, -1.29036146e+00,\n",
       "         1.31476142e+00],\n",
       "       [ 1.56155856e+00, -8.97593825e-01,  6.60084877e-01,\n",
       "        -9.83275869e-01],\n",
       "       [-1.48113868e+00,  1.66246007e+00, -1.13710298e+00,\n",
       "        -6.45020146e-01],\n",
       "       [-1.07802888e+00,  5.15038468e-01, -3.49062645e-01,\n",
       "        -1.18400549e+00],\n",
       "       [ 1.04517393e+00,  1.46542711e+00,  8.00013871e-01,\n",
       "        -1.20209292e+00],\n",
       "       [-8.72346048e-01, -4.77633067e-01, -1.11697866e+00,\n",
       "         1.50440542e+00],\n",
       "       [ 6.14589395e-01, -6.01732611e-01, -1.28243626e+00,\n",
       "        -3.06643804e-02],\n",
       "       [ 1.19261996e+00, -1.61788741e+00, -1.21065659e+00,\n",
       "        -1.16916969e+00],\n",
       "       [ 1.52292912e+00,  1.26269763e+00, -8.10087287e-02,\n",
       "         8.26328459e-01],\n",
       "       [ 5.02216025e-01, -5.36306436e-02, -2.39625975e-01,\n",
       "         7.44639534e-01],\n",
       "       [ 5.40866615e-01,  1.31505408e+00,  1.04968798e+00,\n",
       "        -1.38180731e-01],\n",
       "       [ 1.13468519e+00, -4.86366131e-01,  1.06491431e+00,\n",
       "        -1.37548481e+00],\n",
       "       [ 1.25594055e+00,  7.93228681e-01,  5.29996241e-01,\n",
       "        -5.58444850e-01],\n",
       "       [ 1.05671212e+00, -6.28759586e-01, -1.43830175e+00,\n",
       "         6.99519787e-01],\n",
       "       [ 2.98751485e-01, -6.31578126e-02,  1.23155088e+00,\n",
       "         1.68493206e+00],\n",
       "       [-1.11737293e+00, -4.77898239e-03, -1.29706326e+00,\n",
       "        -1.17400429e+00],\n",
       "       [-2.14881656e-01, -1.30555956e+00, -4.91128723e-01,\n",
       "        -1.00172536e-01],\n",
       "       [ 1.47431132e+00,  9.01668544e-01,  8.56538796e-01,\n",
       "        -1.28771145e+00],\n",
       "       [ 1.14585242e+00,  1.84504790e+00,  8.23071406e-01,\n",
       "         1.23422369e+00],\n",
       "       [ 2.23587731e-01, -3.87338915e-01, -1.48563892e+00,\n",
       "         8.67687741e-01],\n",
       "       [ 1.37908964e+00, -8.71650351e-01, -2.07211763e-01,\n",
       "         6.37167539e-02],\n",
       "       [-1.65345062e+00,  3.40193925e-03, -2.04901921e-02,\n",
       "        -1.12270838e+00],\n",
       "       [ 6.01843259e-01,  3.24831181e-01,  3.21885589e-01,\n",
       "        -4.32920166e-01],\n",
       "       [-6.54682676e-02,  1.50373961e+00, -1.41204978e+00,\n",
       "         5.95858210e-01],\n",
       "       [ 9.39419958e-01, -9.18195639e-01,  1.14522505e+00,\n",
       "        -1.44113751e+00],\n",
       "       [ 3.72012077e-01,  7.06745185e-01,  1.63812847e-01,\n",
       "         1.22650547e+00],\n",
       "       [ 2.24218105e-01, -2.62023500e-01, -1.67434700e-03,\n",
       "         6.95132755e-02],\n",
       "       [-7.17350150e-01,  1.05222139e+00,  5.07102778e-01,\n",
       "         3.77359130e-01],\n",
       "       [-1.23737982e+00, -8.75031021e-01, -1.31020229e+00,\n",
       "         4.11047301e-01],\n",
       "       [ 7.34714118e-01,  1.01071459e+00, -1.20755492e+00,\n",
       "        -4.89848122e-01],\n",
       "       [-1.31898113e+00,  1.72511591e+00, -1.00938900e+00,\n",
       "         7.82204338e-01],\n",
       "       [-1.26221427e-01,  1.42833348e+00,  6.35417122e-01,\n",
       "        -1.15960946e-01],\n",
       "       [-1.11026463e+00,  5.50969551e-01, -3.20823673e-01,\n",
       "        -9.02560129e-01],\n",
       "       [-1.79654755e-01, -6.29736202e-01,  9.65908812e-02,\n",
       "         1.09429558e-01],\n",
       "       [ 5.24515749e-01,  7.78996006e-01, -1.15746440e+00,\n",
       "        -1.68540397e-01],\n",
       "       [-1.24936990e+00, -1.15159522e+00,  1.55556259e+00,\n",
       "         1.31008829e+00],\n",
       "       [ 3.29381146e-01,  1.63393324e+00,  1.06732195e+00,\n",
       "        -5.25391780e-01],\n",
       "       [ 4.23706166e-01, -1.10079741e+00,  2.17668547e-01,\n",
       "         5.55683016e-01],\n",
       "       [ 2.64786800e-01, -1.40422563e+00, -1.25995806e+00,\n",
       "         1.67579170e+00],\n",
       "       [-4.89283643e-01, -9.23205633e-01, -1.27908105e+00,\n",
       "        -1.30595669e+00],\n",
       "       [ 1.11779806e+00, -1.39295664e+00,  9.07734443e-01,\n",
       "        -3.80893173e-01],\n",
       "       [ 1.30199834e-01, -2.61782058e-01,  8.37638039e-02,\n",
       "        -1.49581274e+00],\n",
       "       [-3.83575999e-01,  1.21104833e-01, -6.56272478e-01,\n",
       "        -1.14717968e+00],\n",
       "       [-9.43275211e-01, -1.48965397e+00, -3.78937191e-01,\n",
       "         7.46321369e-01],\n",
       "       [ 9.08837169e-01, -5.32961181e-02,  7.24775729e-01,\n",
       "         1.20979297e+00],\n",
       "       [-1.33319530e+00, -5.25738496e-01,  9.56833691e-01,\n",
       "         5.21122050e-01],\n",
       "       [-9.78843155e-01,  1.24689886e+00, -3.64789291e-01,\n",
       "         7.48874967e-01],\n",
       "       [ 3.86473210e-02, -1.47193776e+00,  1.52799259e-01,\n",
       "         1.44524752e+00],\n",
       "       [ 1.18002090e+00,  7.29066324e-01,  9.31481627e-01,\n",
       "         1.81545715e-01],\n",
       "       [ 7.07923382e-01, -1.17709458e+00, -1.69660601e+00,\n",
       "        -1.15410171e+00],\n",
       "       [ 1.21857759e+00, -5.69407994e-01,  1.42644955e+00,\n",
       "        -1.44855513e+00],\n",
       "       [-1.12309993e+00,  2.70600152e-01, -1.47660578e+00,\n",
       "        -1.35929867e+00],\n",
       "       [ 9.42911309e-01,  4.68546960e-01,  1.45850150e-01,\n",
       "         3.81510325e-01],\n",
       "       [ 7.15971341e-01,  1.35439353e-01,  5.26204470e-01,\n",
       "        -1.59936481e+00],\n",
       "       [ 1.18549503e+00, -1.38339279e+00,  7.41107184e-01,\n",
       "        -5.29826195e-01],\n",
       "       [ 2.82150750e-01,  1.36806432e+00,  2.29518395e-01,\n",
       "         5.24871374e-02],\n",
       "       [ 6.99515885e-01,  1.42632281e+00, -1.38112172e+00,\n",
       "         2.23267266e-01],\n",
       "       [-1.75044661e+00, -8.77469489e-01, -1.01923262e+00,\n",
       "         6.44663535e-02],\n",
       "       [-1.05495707e+00, -4.58954230e-01,  1.18353736e+00,\n",
       "        -1.88351862e-01],\n",
       "       [-1.67522181e+00, -7.72759973e-01,  3.45813455e-01,\n",
       "        -1.28212406e+00],\n",
       "       [ 2.33974612e-01,  3.22862668e-02,  3.53823665e-01,\n",
       "        -1.74319212e+00],\n",
       "       [ 1.12798845e+00,  2.11778433e-01,  4.57797254e-02,\n",
       "        -5.47440254e-01],\n",
       "       [-5.80594936e-01,  1.12085652e+00,  1.62490947e+00,\n",
       "        -1.07007286e+00],\n",
       "       [ 5.39365198e-01, -1.29670392e-01, -1.60925518e-01,\n",
       "         5.25876573e-01],\n",
       "       [ 6.30271406e-01, -2.19024143e-01, -3.86712522e-01,\n",
       "         1.07283555e+00],\n",
       "       [-1.56398085e+00,  5.24866008e-01, -1.25813366e+00,\n",
       "        -4.52319514e-01],\n",
       "       [ 4.99278777e-01,  1.37088098e-01, -9.00404884e-01,\n",
       "         7.45935610e-01],\n",
       "       [ 7.89891882e-01,  1.19936838e+00, -4.70129640e-01,\n",
       "         2.19402771e-01],\n",
       "       [ 5.15675379e-01,  6.41255347e-01,  7.04224454e-01,\n",
       "         8.57629709e-01],\n",
       "       [-1.46969783e+00,  3.73221540e-02,  1.44235652e+00,\n",
       "         9.86564937e-01],\n",
       "       [-1.59280912e+00, -5.60552860e-01, -5.59542961e-01,\n",
       "         9.15538365e-01],\n",
       "       [ 6.22702637e-01, -1.47648796e+00, -5.76492283e-02,\n",
       "        -1.19698041e+00],\n",
       "       [-1.14089105e+00,  1.16260757e+00,  2.35691558e-01,\n",
       "        -1.61796483e+00],\n",
       "       [ 1.34364117e+00,  1.47467463e+00,  2.90546889e-01,\n",
       "        -1.14152122e-01],\n",
       "       [-9.65357785e-02,  5.30795754e-01,  3.36048970e-01,\n",
       "        -6.76404617e-01],\n",
       "       [ 4.78069277e-01, -1.49019745e-01, -1.27829611e+00,\n",
       "         5.30893504e-01],\n",
       "       [ 1.30217301e+00,  6.10200743e-01, -8.52442064e-01,\n",
       "        -4.92391137e-01],\n",
       "       [-1.51522204e+00, -3.46927448e-01,  1.03476585e+00,\n",
       "         1.28299323e+00],\n",
       "       [ 6.21870425e-01, -1.48628125e+00,  1.29079579e+00,\n",
       "        -2.85037847e-01],\n",
       "       [-1.25901273e-01, -5.55174775e-01, -5.07543540e-01,\n",
       "         1.03541593e+00],\n",
       "       [ 1.07863022e+00,  1.46509948e-01,  7.56350958e-01,\n",
       "        -7.06214084e-01],\n",
       "       [-1.60342949e+00, -1.49122832e+00, -4.68269291e-01,\n",
       "         7.74508569e-01],\n",
       "       [ 1.12148334e+00,  1.80507806e+00,  3.83400224e-01,\n",
       "         1.86550480e-01],\n",
       "       [-4.54341513e-01,  7.19611220e-01,  1.32837222e-01,\n",
       "         1.22206426e+00],\n",
       "       [ 8.38307084e-01, -1.61688431e+00, -1.64758746e+00,\n",
       "        -6.56450511e-01],\n",
       "       [-1.46429056e+00,  1.14874474e+00,  1.59877127e+00,\n",
       "        -1.08224021e+00],\n",
       "       [-1.52590546e+00, -8.69235533e-01, -5.07929074e-01,\n",
       "        -1.61316034e+00],\n",
       "       [-8.85661441e-01, -1.32715839e+00, -4.64961342e-01,\n",
       "         2.12727339e-02],\n",
       "       [-1.56554031e+00,  1.37107699e+00,  1.48316004e+00,\n",
       "         6.60587594e-01],\n",
       "       [-1.74270138e-01,  9.54635851e-01,  1.27981043e+00,\n",
       "         3.52678657e-01],\n",
       "       [-7.61278048e-01,  5.83171615e-01,  6.36656956e-01,\n",
       "        -1.78383859e+00],\n",
       "       [-1.68355897e+00,  1.30229044e+00,  1.19405474e+00,\n",
       "        -1.30650598e+00],\n",
       "       [ 9.89234693e-01, -6.49799455e-01,  8.06149463e-01,\n",
       "         8.44029375e-01],\n",
       "       [-1.74583206e+00, -1.16592181e+00, -1.42744469e+00,\n",
       "        -3.37370127e-01],\n",
       "       [-3.67795670e-01, -1.04346025e+00, -1.57962131e+00,\n",
       "        -9.03652141e-01],\n",
       "       [ 7.92577814e-01, -1.62023468e+00,  1.28287823e+00,\n",
       "         1.14937181e+00],\n",
       "       [ 3.83820813e-01,  3.86879687e-02, -3.40112816e-02,\n",
       "        -5.97126156e-01],\n",
       "       [-1.01966301e+00, -8.04256432e-01, -1.64604713e+00,\n",
       "        -1.05996705e+00],\n",
       "       [ 8.54895802e-01,  6.67004918e-01,  6.06337554e-01,\n",
       "        -1.41358995e+00],\n",
       "       [-8.48500551e-01, -2.60463806e-01, -4.08028796e-01,\n",
       "         7.16234256e-01]])"
      ]
     },
     "execution_count": 95,
     "metadata": {},
     "output_type": "execute_result"
    }
   ],
   "source": [
    "clust_2"
   ]
  },
  {
   "cell_type": "code",
   "execution_count": 96,
   "metadata": {},
   "outputs": [
    {
     "data": {
      "image/png": "[encoded data removed]",
      "text/plain": [
       "<Figure size 640x480 with 1 Axes>"
      ]
     },
     "metadata": {},
     "output_type": "display_data"
    }
   ],
   "source": [
    "inertia = []\n",
    "for i in range(1,8):\n",
    "  modelo = KMeans(n_clusters=i, n_init='auto')\n",
    "  modelo.fit(clust_1)\n",
    "  inertia.append(modelo.inertia_)\n",
    "plt.plot(range(1,8), inertia) #, marker='o'\n",
    "plt.title('Elbow Method')\n",
    "plt.xlabel('Número de Clusters')\n",
    "plt.show()"
   ]
  },
  {
   "cell_type": "code",
   "execution_count": 97,
   "metadata": {},
   "outputs": [
    {
     "data": {
      "image/png": "[encoded data removed]",
      "text/plain": [
       "<Figure size 640x480 with 1 Axes>"
      ]
     },
     "metadata": {},
     "output_type": "display_data"
    }
   ],
   "source": [
    "inertia = []\n",
    "for i in range(1,8):\n",
    "  modelo = KMeans(n_clusters=i, n_init='auto')\n",
    "  modelo.fit(clust_2)\n",
    "  inertia.append(modelo.inertia_)\n",
    "plt.plot(range(1,8), inertia) #, marker='o'\n",
    "plt.title('Elbow Method')\n",
    "plt.xlabel('Número de Clusters')\n",
    "plt.show()"
   ]
  },
  {
   "cell_type": "code",
   "execution_count": 102,
   "metadata": {},
   "outputs": [
    {
     "name": "stdout",
     "output_type": "stream",
     "text": [
      "0.1863396503093524\n",
      "0.4874145330968097\n"
     ]
    }
   ],
   "source": [
    "# a função hopkins retorna um valor entre 0 e 1, quanto mais próximo de 1, mais os dados são clusterizáveis\n",
    "print(hopkins(clust_1, 150))\n",
    "print(hopkins(clust_2, 150))"
   ]
  },
  {
   "cell_type": "code",
   "execution_count": null,
   "metadata": {},
   "outputs": [],
   "source": [
    "# # vat(clust_1)\n",
    "# # vat(clust_2)\n",
    "# ivat(clust_1)\n",
    "# ivat(clust_2)"
   ]
  },
  {
   "cell_type": "markdown",
   "metadata": {},
   "source": [
    "Tecnica indica o numero ideal de clusters."
   ]
  },
  {
   "cell_type": "code",
   "execution_count": 107,
   "metadata": {},
   "outputs": [
    {
     "name": "stdout",
     "output_type": "stream",
     "text": [
      "(np.int64(2), array([0.58175005, 0.45663381, 0.38349421, 0.34871861]))\n",
      "(np.int64(2), array([0.59331269, 0.83400015, 1.01558682, 0.92101962]))\n",
      "(np.int64(2), array([251.34933946, 239.48453205, 206.55006422, 166.46516533]))\n"
     ]
    }
   ],
   "source": [
    "# retorna o numero de clustaers mais adequado\n",
    "m = assess_tendency_by_metric(clust_1, 'silhouette',5)\n",
    "print(m) # retornou 2 clusters\n",
    "m = assess_tendency_by_metric(clust_1, 'davies_bouldin',5)\n",
    "print(m) # retornou 2 clusters\n",
    "m = assess_tendency_by_metric(clust_1, 'calinski_harabasz',5)\n",
    "print(m) # retornou 2 clusters"
   ]
  },
  {
   "cell_type": "code",
   "execution_count": 108,
   "metadata": {},
   "outputs": [
    {
     "name": "stdout",
     "output_type": "stream",
     "text": [
      "(np.int64(5), array([0.18488874, 0.19341725, 0.20559186, 0.22244681]))\n",
      "(np.int64(5), array([1.94523879, 1.52329002, 1.36138246, 1.33414658]))\n",
      "(np.int64(4), array([34.62493843, 37.39840534, 43.23302841, 41.75520033]))\n"
     ]
    }
   ],
   "source": [
    "# retorna o numero de clustaers mais adequado\n",
    "m = assess_tendency_by_metric(clust_2, 'silhouette',5)\n",
    "print(m) # retornou 2 clusters\n",
    "m = assess_tendency_by_metric(clust_2, 'davies_bouldin',5)\n",
    "print(m) # retornou 2 clusters\n",
    "m = assess_tendency_by_metric(clust_2, 'calinski_harabasz',5)\n",
    "print(m) # retornou 2 clusters"
   ]
  },
  {
   "cell_type": "code",
   "execution_count": 116,
   "metadata": {},
   "outputs": [
    {
     "name": "stdout",
     "output_type": "stream",
     "text": [
      "A média de cluster é: 2.0\n",
      "A média de cluster é:  5.0\n"
     ]
    }
   ],
   "source": [
    "# Faz a média dos tres metodos e retornar o numero de clustaers mais adequado\n",
    "m = assess_tendency_by_mean_metric_score(clust_1,5)\n",
    "print('A média de cluster é:',m) # retornou 2 clusters\n",
    "# retorna o numero de clustaers mais adequado\n",
    "m = assess_tendency_by_mean_metric_score(clust_2,5)\n",
    "print('A média de cluster é: ',m) # retornou 2 clusters\n"
   ]
  },
  {
   "cell_type": "markdown",
   "metadata": {},
   "source": [
    "### Escolha do melhor metodo de clusterização"
   ]
  },
  {
   "cell_type": "code",
   "execution_count": 117,
   "metadata": {},
   "outputs": [],
   "source": [
    "from sklearn.preprocessing import StandardScaler\n",
    "from sklearn.cluster import KMeans, AgglomerativeClustering, DBSCAN\n",
    "from sklearn.metrics import silhouette_score"
   ]
  },
  {
   "cell_type": "code",
   "execution_count": 119,
   "metadata": {},
   "outputs": [],
   "source": [
    "def compare_algorithms(X, max_clusters):\n",
    "  results = []\n",
    "  cluster_range = range(2, max_clusters +1)\n",
    "\n",
    "  #kmeans\n",
    "  for n_clusters in cluster_range:\n",
    "    kmeans = KMeans(n_clusters=n_clusters, random_state=0, n_init='auto')\n",
    "    clusters = kmeans.fit_predict(X)\n",
    "    silhouette_avg = silhouette_score(X, clusters)\n",
    "    results.append(('KMeans',n_clusters,silhouette_avg))\n",
    "  \n",
    "  #agglomerativo\n",
    "  for n_clusters in cluster_range:\n",
    "    agglomerative = AgglomerativeClustering(n_clusters=n_clusters)\n",
    "    clusters = agglomerative.fit_predict(X)\n",
    "    silhouette_avg = silhouette_score(X, clusters)\n",
    "    results.append(('Agglomerative',n_clusters,silhouette_avg))\n",
    "\n",
    "  #dbscan\n",
    "  eps_values = np.arange(0.1,0.9,0.1)\n",
    "  for eps in eps_values:\n",
    "    dbscan = DBSCAN(eps=eps, min_samples=5)\n",
    "    clusters = dbscan.fit_predict(X)\n",
    "    if len(set(clusters)) > 1:\n",
    "      silhouette_avg = silhouette_score(X, clusters)\n",
    "      results.append(('DBSCAN',eps,silhouette_avg))\n",
    "\n",
    "  return results\n",
    "     "
   ]
  },
  {
   "cell_type": "code",
   "execution_count": 122,
   "metadata": {},
   "outputs": [
    {
     "data": {
      "text/html": [
       "<div>\n",
       "<style scoped>\n",
       "    .dataframe tbody tr th:only-of-type {\n",
       "        vertical-align: middle;\n",
       "    }\n",
       "\n",
       "    .dataframe tbody tr th {\n",
       "        vertical-align: top;\n",
       "    }\n",
       "\n",
       "    .dataframe thead th {\n",
       "        text-align: right;\n",
       "    }\n",
       "</style>\n",
       "<table border=\"1\" class=\"dataframe\">\n",
       "  <thead>\n",
       "    <tr style=\"text-align: right;\">\n",
       "      <th></th>\n",
       "      <th>Agrupado</th>\n",
       "      <th>Clusters</th>\n",
       "      <th>Score</th>\n",
       "    </tr>\n",
       "  </thead>\n",
       "  <tbody>\n",
       "    <tr>\n",
       "      <th>0</th>\n",
       "      <td>KMeans</td>\n",
       "      <td>2.0</td>\n",
       "      <td>0.581750</td>\n",
       "    </tr>\n",
       "    <tr>\n",
       "      <th>1</th>\n",
       "      <td>KMeans</td>\n",
       "      <td>3.0</td>\n",
       "      <td>0.459948</td>\n",
       "    </tr>\n",
       "    <tr>\n",
       "      <th>2</th>\n",
       "      <td>KMeans</td>\n",
       "      <td>4.0</td>\n",
       "      <td>0.386941</td>\n",
       "    </tr>\n",
       "    <tr>\n",
       "      <th>3</th>\n",
       "      <td>KMeans</td>\n",
       "      <td>5.0</td>\n",
       "      <td>0.345511</td>\n",
       "    </tr>\n",
       "    <tr>\n",
       "      <th>4</th>\n",
       "      <td>KMeans</td>\n",
       "      <td>6.0</td>\n",
       "      <td>0.343719</td>\n",
       "    </tr>\n",
       "    <tr>\n",
       "      <th>5</th>\n",
       "      <td>KMeans</td>\n",
       "      <td>7.0</td>\n",
       "      <td>0.329236</td>\n",
       "    </tr>\n",
       "    <tr>\n",
       "      <th>6</th>\n",
       "      <td>KMeans</td>\n",
       "      <td>8.0</td>\n",
       "      <td>0.335194</td>\n",
       "    </tr>\n",
       "    <tr>\n",
       "      <th>7</th>\n",
       "      <td>KMeans</td>\n",
       "      <td>9.0</td>\n",
       "      <td>0.352488</td>\n",
       "    </tr>\n",
       "    <tr>\n",
       "      <th>8</th>\n",
       "      <td>KMeans</td>\n",
       "      <td>10.0</td>\n",
       "      <td>0.348607</td>\n",
       "    </tr>\n",
       "    <tr>\n",
       "      <th>9</th>\n",
       "      <td>Agglomerative</td>\n",
       "      <td>2.0</td>\n",
       "      <td>0.577035</td>\n",
       "    </tr>\n",
       "    <tr>\n",
       "      <th>10</th>\n",
       "      <td>Agglomerative</td>\n",
       "      <td>3.0</td>\n",
       "      <td>0.446689</td>\n",
       "    </tr>\n",
       "    <tr>\n",
       "      <th>11</th>\n",
       "      <td>Agglomerative</td>\n",
       "      <td>4.0</td>\n",
       "      <td>0.400636</td>\n",
       "    </tr>\n",
       "    <tr>\n",
       "      <th>12</th>\n",
       "      <td>Agglomerative</td>\n",
       "      <td>5.0</td>\n",
       "      <td>0.330587</td>\n",
       "    </tr>\n",
       "    <tr>\n",
       "      <th>13</th>\n",
       "      <td>Agglomerative</td>\n",
       "      <td>6.0</td>\n",
       "      <td>0.314855</td>\n",
       "    </tr>\n",
       "    <tr>\n",
       "      <th>14</th>\n",
       "      <td>Agglomerative</td>\n",
       "      <td>7.0</td>\n",
       "      <td>0.316970</td>\n",
       "    </tr>\n",
       "    <tr>\n",
       "      <th>15</th>\n",
       "      <td>Agglomerative</td>\n",
       "      <td>8.0</td>\n",
       "      <td>0.310947</td>\n",
       "    </tr>\n",
       "    <tr>\n",
       "      <th>16</th>\n",
       "      <td>Agglomerative</td>\n",
       "      <td>9.0</td>\n",
       "      <td>0.311434</td>\n",
       "    </tr>\n",
       "    <tr>\n",
       "      <th>17</th>\n",
       "      <td>Agglomerative</td>\n",
       "      <td>10.0</td>\n",
       "      <td>0.316112</td>\n",
       "    </tr>\n",
       "    <tr>\n",
       "      <th>18</th>\n",
       "      <td>DBSCAN</td>\n",
       "      <td>0.3</td>\n",
       "      <td>-0.194195</td>\n",
       "    </tr>\n",
       "    <tr>\n",
       "      <th>19</th>\n",
       "      <td>DBSCAN</td>\n",
       "      <td>0.4</td>\n",
       "      <td>0.027670</td>\n",
       "    </tr>\n",
       "    <tr>\n",
       "      <th>20</th>\n",
       "      <td>DBSCAN</td>\n",
       "      <td>0.5</td>\n",
       "      <td>0.356516</td>\n",
       "    </tr>\n",
       "    <tr>\n",
       "      <th>21</th>\n",
       "      <td>DBSCAN</td>\n",
       "      <td>0.6</td>\n",
       "      <td>0.402762</td>\n",
       "    </tr>\n",
       "    <tr>\n",
       "      <th>22</th>\n",
       "      <td>DBSCAN</td>\n",
       "      <td>0.7</td>\n",
       "      <td>0.523401</td>\n",
       "    </tr>\n",
       "    <tr>\n",
       "      <th>23</th>\n",
       "      <td>DBSCAN</td>\n",
       "      <td>0.8</td>\n",
       "      <td>0.521697</td>\n",
       "    </tr>\n",
       "  </tbody>\n",
       "</table>\n",
       "</div>"
      ],
      "text/plain": [
       "         Agrupado  Clusters     Score\n",
       "0          KMeans       2.0  0.581750\n",
       "1          KMeans       3.0  0.459948\n",
       "2          KMeans       4.0  0.386941\n",
       "3          KMeans       5.0  0.345511\n",
       "4          KMeans       6.0  0.343719\n",
       "5          KMeans       7.0  0.329236\n",
       "6          KMeans       8.0  0.335194\n",
       "7          KMeans       9.0  0.352488\n",
       "8          KMeans      10.0  0.348607\n",
       "9   Agglomerative       2.0  0.577035\n",
       "10  Agglomerative       3.0  0.446689\n",
       "11  Agglomerative       4.0  0.400636\n",
       "12  Agglomerative       5.0  0.330587\n",
       "13  Agglomerative       6.0  0.314855\n",
       "14  Agglomerative       7.0  0.316970\n",
       "15  Agglomerative       8.0  0.310947\n",
       "16  Agglomerative       9.0  0.311434\n",
       "17  Agglomerative      10.0  0.316112\n",
       "18         DBSCAN       0.3 -0.194195\n",
       "19         DBSCAN       0.4  0.027670\n",
       "20         DBSCAN       0.5  0.356516\n",
       "21         DBSCAN       0.6  0.402762\n",
       "22         DBSCAN       0.7  0.523401\n",
       "23         DBSCAN       0.8  0.521697"
      ]
     },
     "execution_count": 122,
     "metadata": {},
     "output_type": "execute_result"
    }
   ],
   "source": [
    "df = datasets.load_iris()\n",
    "scaler = StandardScaler()\n",
    "scaled_data = scaler.fit_transform(df.data)\n",
    "\n",
    "resultado = compare_algorithms(scaled_data, 10)\n",
    "\n",
    "resultado = pd.DataFrame(resultado, columns=['Agrupado','Clusters','Score'])\n",
    "resultado"
   ]
  },
  {
   "cell_type": "code",
   "execution_count": 126,
   "metadata": {},
   "outputs": [
    {
     "data": {
      "text/plain": [
       "Agrupado     KMeans\n",
       "Clusters        2.0\n",
       "Score       0.58175\n",
       "Name: 0, dtype: object"
      ]
     },
     "execution_count": 126,
     "metadata": {},
     "output_type": "execute_result"
    }
   ],
   "source": [
    "resultado.loc[resultado['Score'].idxmax()]\n"
   ]
  }
 ],
 "metadata": {
  "kernelspec": {
   "display_name": "Python 3",
   "language": "python",
   "name": "python3"
  },
  "language_info": {
   "codemirror_mode": {
    "name": "ipython",
    "version": 3
   },
   "file_extension": ".py",
   "mimetype": "text/x-python",
   "name": "python",
   "nbconvert_exporter": "python",
   "pygments_lexer": "ipython3",
   "version": "3.13.0"
  }
 },
 "nbformat": 4,
 "nbformat_minor": 2
}
